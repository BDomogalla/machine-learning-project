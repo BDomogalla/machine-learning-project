{
 "cells": [
  {
   "cell_type": "code",
   "execution_count": 2,
   "metadata": {},
   "outputs": [],
   "source": [
    "# Set the seed value for the notebook so the results are reproducible\n",
    "from numpy.random import seed\n",
    "seed(1)"
   ]
  },
  {
   "cell_type": "code",
   "execution_count": 3,
   "metadata": {},
   "outputs": [],
   "source": [
    "# Dependencies\n",
    "import numpy as np\n",
    "import pandas as pd"
   ]
  },
  {
   "cell_type": "code",
   "execution_count": 4,
   "metadata": {},
   "outputs": [
    {
     "data": {
      "text/plain": [
       "'2.2.4-tf'"
      ]
     },
     "execution_count": 4,
     "metadata": {},
     "output_type": "execute_result"
    }
   ],
   "source": [
    "import tensorflow\n",
    "tensorflow.keras.__version__"
   ]
  },
  {
   "cell_type": "code",
   "execution_count": 5,
   "metadata": {},
   "outputs": [
    {
     "data": {
      "text/html": [
       "<div>\n",
       "<style scoped>\n",
       "    .dataframe tbody tr th:only-of-type {\n",
       "        vertical-align: middle;\n",
       "    }\n",
       "\n",
       "    .dataframe tbody tr th {\n",
       "        vertical-align: top;\n",
       "    }\n",
       "\n",
       "    .dataframe thead th {\n",
       "        text-align: right;\n",
       "    }\n",
       "</style>\n",
       "<table border=\"1\" class=\"dataframe\">\n",
       "  <thead>\n",
       "    <tr style=\"text-align: right;\">\n",
       "      <th></th>\n",
       "      <th>Music</th>\n",
       "      <th>Slow songs or fast songs</th>\n",
       "      <th>Dance</th>\n",
       "      <th>Folk</th>\n",
       "      <th>Country</th>\n",
       "      <th>Classical music</th>\n",
       "      <th>Musical</th>\n",
       "      <th>Pop</th>\n",
       "      <th>Rock</th>\n",
       "      <th>Metal or Hardrock</th>\n",
       "      <th>...</th>\n",
       "      <th>Age</th>\n",
       "      <th>Height</th>\n",
       "      <th>Weight</th>\n",
       "      <th>Number of siblings</th>\n",
       "      <th>Gender</th>\n",
       "      <th>Left - right handed</th>\n",
       "      <th>Education</th>\n",
       "      <th>Only child</th>\n",
       "      <th>Village - town</th>\n",
       "      <th>House - block of flats</th>\n",
       "    </tr>\n",
       "  </thead>\n",
       "  <tbody>\n",
       "    <tr>\n",
       "      <th>0</th>\n",
       "      <td>5.0</td>\n",
       "      <td>3.0</td>\n",
       "      <td>2.0</td>\n",
       "      <td>1.0</td>\n",
       "      <td>2.0</td>\n",
       "      <td>2.0</td>\n",
       "      <td>1.0</td>\n",
       "      <td>5.0</td>\n",
       "      <td>5.0</td>\n",
       "      <td>1.0</td>\n",
       "      <td>...</td>\n",
       "      <td>20.0</td>\n",
       "      <td>163.0</td>\n",
       "      <td>48.0</td>\n",
       "      <td>1.0</td>\n",
       "      <td>female</td>\n",
       "      <td>right handed</td>\n",
       "      <td>college/bachelor degree</td>\n",
       "      <td>no</td>\n",
       "      <td>village</td>\n",
       "      <td>block of flats</td>\n",
       "    </tr>\n",
       "    <tr>\n",
       "      <th>1</th>\n",
       "      <td>4.0</td>\n",
       "      <td>4.0</td>\n",
       "      <td>2.0</td>\n",
       "      <td>1.0</td>\n",
       "      <td>1.0</td>\n",
       "      <td>1.0</td>\n",
       "      <td>2.0</td>\n",
       "      <td>3.0</td>\n",
       "      <td>5.0</td>\n",
       "      <td>4.0</td>\n",
       "      <td>...</td>\n",
       "      <td>19.0</td>\n",
       "      <td>163.0</td>\n",
       "      <td>58.0</td>\n",
       "      <td>2.0</td>\n",
       "      <td>female</td>\n",
       "      <td>right handed</td>\n",
       "      <td>college/bachelor degree</td>\n",
       "      <td>no</td>\n",
       "      <td>city</td>\n",
       "      <td>block of flats</td>\n",
       "    </tr>\n",
       "    <tr>\n",
       "      <th>2</th>\n",
       "      <td>5.0</td>\n",
       "      <td>5.0</td>\n",
       "      <td>2.0</td>\n",
       "      <td>2.0</td>\n",
       "      <td>3.0</td>\n",
       "      <td>4.0</td>\n",
       "      <td>5.0</td>\n",
       "      <td>3.0</td>\n",
       "      <td>5.0</td>\n",
       "      <td>3.0</td>\n",
       "      <td>...</td>\n",
       "      <td>20.0</td>\n",
       "      <td>176.0</td>\n",
       "      <td>67.0</td>\n",
       "      <td>2.0</td>\n",
       "      <td>female</td>\n",
       "      <td>right handed</td>\n",
       "      <td>secondary school</td>\n",
       "      <td>no</td>\n",
       "      <td>city</td>\n",
       "      <td>block of flats</td>\n",
       "    </tr>\n",
       "    <tr>\n",
       "      <th>4</th>\n",
       "      <td>5.0</td>\n",
       "      <td>3.0</td>\n",
       "      <td>4.0</td>\n",
       "      <td>3.0</td>\n",
       "      <td>2.0</td>\n",
       "      <td>4.0</td>\n",
       "      <td>3.0</td>\n",
       "      <td>5.0</td>\n",
       "      <td>3.0</td>\n",
       "      <td>1.0</td>\n",
       "      <td>...</td>\n",
       "      <td>20.0</td>\n",
       "      <td>170.0</td>\n",
       "      <td>59.0</td>\n",
       "      <td>1.0</td>\n",
       "      <td>female</td>\n",
       "      <td>right handed</td>\n",
       "      <td>secondary school</td>\n",
       "      <td>no</td>\n",
       "      <td>village</td>\n",
       "      <td>house/bungalow</td>\n",
       "    </tr>\n",
       "    <tr>\n",
       "      <th>5</th>\n",
       "      <td>5.0</td>\n",
       "      <td>3.0</td>\n",
       "      <td>2.0</td>\n",
       "      <td>3.0</td>\n",
       "      <td>2.0</td>\n",
       "      <td>3.0</td>\n",
       "      <td>3.0</td>\n",
       "      <td>2.0</td>\n",
       "      <td>5.0</td>\n",
       "      <td>5.0</td>\n",
       "      <td>...</td>\n",
       "      <td>20.0</td>\n",
       "      <td>186.0</td>\n",
       "      <td>77.0</td>\n",
       "      <td>1.0</td>\n",
       "      <td>male</td>\n",
       "      <td>right handed</td>\n",
       "      <td>secondary school</td>\n",
       "      <td>no</td>\n",
       "      <td>city</td>\n",
       "      <td>block of flats</td>\n",
       "    </tr>\n",
       "  </tbody>\n",
       "</table>\n",
       "<p>5 rows × 150 columns</p>\n",
       "</div>"
      ],
      "text/plain": [
       "   Music  Slow songs or fast songs  Dance  Folk  Country  Classical music  \\\n",
       "0    5.0                       3.0    2.0   1.0      2.0              2.0   \n",
       "1    4.0                       4.0    2.0   1.0      1.0              1.0   \n",
       "2    5.0                       5.0    2.0   2.0      3.0              4.0   \n",
       "4    5.0                       3.0    4.0   3.0      2.0              4.0   \n",
       "5    5.0                       3.0    2.0   3.0      2.0              3.0   \n",
       "\n",
       "   Musical  Pop  Rock  Metal or Hardrock  ...   Age  Height  Weight  \\\n",
       "0      1.0  5.0   5.0                1.0  ...  20.0   163.0    48.0   \n",
       "1      2.0  3.0   5.0                4.0  ...  19.0   163.0    58.0   \n",
       "2      5.0  3.0   5.0                3.0  ...  20.0   176.0    67.0   \n",
       "4      3.0  5.0   3.0                1.0  ...  20.0   170.0    59.0   \n",
       "5      3.0  2.0   5.0                5.0  ...  20.0   186.0    77.0   \n",
       "\n",
       "   Number of siblings  Gender  Left - right handed                Education  \\\n",
       "0                 1.0  female         right handed  college/bachelor degree   \n",
       "1                 2.0  female         right handed  college/bachelor degree   \n",
       "2                 2.0  female         right handed         secondary school   \n",
       "4                 1.0  female         right handed         secondary school   \n",
       "5                 1.0    male         right handed         secondary school   \n",
       "\n",
       "   Only child  Village - town  House - block of flats  \n",
       "0          no         village          block of flats  \n",
       "1          no            city          block of flats  \n",
       "2          no            city          block of flats  \n",
       "4          no         village          house/bungalow  \n",
       "5          no            city          block of flats  \n",
       "\n",
       "[5 rows x 150 columns]"
      ]
     },
     "execution_count": 5,
     "metadata": {},
     "output_type": "execute_result"
    }
   ],
   "source": [
    "df = pd.read_csv(\"Data/responses.csv\")\n",
    "# Drop the null columns where all values are null\n",
    "df = df.dropna(axis='columns', how='all')\n",
    "# Drop the null rows\n",
    "df = df.dropna()\n",
    "df.head()\n",
    "df.head()"
   ]
  },
  {
   "cell_type": "code",
   "execution_count": 11,
   "metadata": {},
   "outputs": [],
   "source": [
    "selected_features = df[['Folk','Country','Dance','Classical music','Pop','Rock']]\n"
   ]
  },
  {
   "cell_type": "code",
   "execution_count": 12,
   "metadata": {},
   "outputs": [
    {
     "name": "stdout",
     "output_type": "stream",
     "text": [
      "(674, 6) (674,)\n"
     ]
    }
   ],
   "source": [
    "X = selected_features\n",
    "y = df[\"Gender\"]\n",
    "print(X.shape, y.shape)"
   ]
  },
  {
   "cell_type": "code",
   "execution_count": 13,
   "metadata": {},
   "outputs": [],
   "source": [
    "from sklearn.model_selection import train_test_split\n",
    "from sklearn.preprocessing import LabelEncoder, MinMaxScaler\n",
    "from tensorflow.keras.utils import to_categorical"
   ]
  },
  {
   "cell_type": "code",
   "execution_count": 14,
   "metadata": {},
   "outputs": [],
   "source": [
    "X_train, X_test, y_train, y_test = train_test_split(\n",
    "    X, y, random_state=1, stratify=y)"
   ]
  },
  {
   "cell_type": "code",
   "execution_count": 15,
   "metadata": {},
   "outputs": [],
   "source": [
    "X_scaler = MinMaxScaler().fit(X_train)\n",
    "X_train_scaled = X_scaler.transform(X_train)\n",
    "X_test_scaled = X_scaler.transform(X_test)"
   ]
  },
  {
   "cell_type": "code",
   "execution_count": 16,
   "metadata": {},
   "outputs": [],
   "source": [
    "# Step 1: Label-encode data set\n",
    "label_encoder = LabelEncoder()\n",
    "label_encoder.fit(y_train)\n",
    "encoded_y_train = label_encoder.transform(y_train)\n",
    "encoded_y_test = label_encoder.transform(y_test)"
   ]
  },
  {
   "cell_type": "code",
   "execution_count": 17,
   "metadata": {},
   "outputs": [],
   "source": [
    "# Step 2: Convert encoded labels to one-hot-encoding\n",
    "y_train_categorical = to_categorical(encoded_y_train)\n",
    "y_test_categorical = to_categorical(encoded_y_test)"
   ]
  },
  {
   "cell_type": "code",
   "execution_count": 18,
   "metadata": {},
   "outputs": [],
   "source": [
    "from tensorflow.keras.models import Sequential\n",
    "from tensorflow.keras.layers import Dense"
   ]
  },
  {
   "cell_type": "code",
   "execution_count": 23,
   "metadata": {},
   "outputs": [],
   "source": [
    "# Create model and add layers\n",
    "model = Sequential()\n",
    "model.add(Dense(units=100, activation='relu', input_dim=6))\n",
    "model.add(Dense(units=100, activation='relu'))\n",
    "model.add(Dense(units=2, activation='softmax'))"
   ]
  },
  {
   "cell_type": "code",
   "execution_count": 24,
   "metadata": {},
   "outputs": [],
   "source": [
    "# Compile and fit the model\n",
    "model.compile(optimizer='adam',\n",
    "              loss='categorical_crossentropy',\n",
    "              metrics=['accuracy'])"
   ]
  },
  {
   "cell_type": "code",
   "execution_count": 25,
   "metadata": {},
   "outputs": [
    {
     "name": "stdout",
     "output_type": "stream",
     "text": [
      "Model: \"sequential_1\"\n",
      "_________________________________________________________________\n",
      "Layer (type)                 Output Shape              Param #   \n",
      "=================================================================\n",
      "dense_3 (Dense)              (None, 100)               700       \n",
      "_________________________________________________________________\n",
      "dense_4 (Dense)              (None, 100)               10100     \n",
      "_________________________________________________________________\n",
      "dense_5 (Dense)              (None, 2)                 202       \n",
      "=================================================================\n",
      "Total params: 11,002\n",
      "Trainable params: 11,002\n",
      "Non-trainable params: 0\n",
      "_________________________________________________________________\n"
     ]
    }
   ],
   "source": [
    "model.summary()"
   ]
  },
  {
   "cell_type": "code",
   "execution_count": 26,
   "metadata": {},
   "outputs": [
    {
     "name": "stdout",
     "output_type": "stream",
     "text": [
      "Epoch 1/60\n",
      "505/505 - 0s - loss: 0.6726 - acc: 0.6020\n",
      "Epoch 2/60\n",
      "505/505 - 0s - loss: 0.6662 - acc: 0.5960\n",
      "Epoch 3/60\n",
      "505/505 - 0s - loss: 0.6674 - acc: 0.6040\n",
      "Epoch 4/60\n",
      "505/505 - 0s - loss: 0.6555 - acc: 0.6000\n",
      "Epoch 5/60\n",
      "505/505 - 0s - loss: 0.6553 - acc: 0.6020\n",
      "Epoch 6/60\n",
      "505/505 - 0s - loss: 0.6514 - acc: 0.6317\n",
      "Epoch 7/60\n",
      "505/505 - 0s - loss: 0.6487 - acc: 0.6139\n",
      "Epoch 8/60\n",
      "505/505 - 0s - loss: 0.6467 - acc: 0.6257\n",
      "Epoch 9/60\n",
      "505/505 - 0s - loss: 0.6457 - acc: 0.6218\n",
      "Epoch 10/60\n",
      "505/505 - 0s - loss: 0.6459 - acc: 0.6198\n",
      "Epoch 11/60\n",
      "505/505 - 0s - loss: 0.6433 - acc: 0.6257\n",
      "Epoch 12/60\n",
      "505/505 - 0s - loss: 0.6415 - acc: 0.6455\n",
      "Epoch 13/60\n",
      "505/505 - 0s - loss: 0.6390 - acc: 0.6416\n",
      "Epoch 14/60\n",
      "505/505 - 0s - loss: 0.6373 - acc: 0.6337\n",
      "Epoch 15/60\n",
      "505/505 - 0s - loss: 0.6403 - acc: 0.6396\n",
      "Epoch 16/60\n",
      "505/505 - 0s - loss: 0.6354 - acc: 0.6515\n",
      "Epoch 17/60\n",
      "505/505 - 0s - loss: 0.6315 - acc: 0.6594\n",
      "Epoch 18/60\n",
      "505/505 - 0s - loss: 0.6305 - acc: 0.6495\n",
      "Epoch 19/60\n",
      "505/505 - 0s - loss: 0.6296 - acc: 0.6416\n",
      "Epoch 20/60\n",
      "505/505 - 0s - loss: 0.6292 - acc: 0.6574\n",
      "Epoch 21/60\n",
      "505/505 - 0s - loss: 0.6244 - acc: 0.6653\n",
      "Epoch 22/60\n",
      "505/505 - 0s - loss: 0.6244 - acc: 0.6634\n",
      "Epoch 23/60\n",
      "505/505 - 0s - loss: 0.6224 - acc: 0.6574\n",
      "Epoch 24/60\n",
      "505/505 - 0s - loss: 0.6235 - acc: 0.6752\n",
      "Epoch 25/60\n",
      "505/505 - 0s - loss: 0.6245 - acc: 0.6515\n",
      "Epoch 26/60\n",
      "505/505 - 0s - loss: 0.6159 - acc: 0.6752\n",
      "Epoch 27/60\n",
      "505/505 - 0s - loss: 0.6134 - acc: 0.6733\n",
      "Epoch 28/60\n",
      "505/505 - 0s - loss: 0.6149 - acc: 0.6653\n",
      "Epoch 29/60\n",
      "505/505 - 0s - loss: 0.6100 - acc: 0.6752\n",
      "Epoch 30/60\n",
      "505/505 - 0s - loss: 0.6137 - acc: 0.6634\n",
      "Epoch 31/60\n",
      "505/505 - 0s - loss: 0.6190 - acc: 0.6634\n",
      "Epoch 32/60\n",
      "505/505 - 0s - loss: 0.6083 - acc: 0.6713\n",
      "Epoch 33/60\n",
      "505/505 - 0s - loss: 0.6039 - acc: 0.6733\n",
      "Epoch 34/60\n",
      "505/505 - 0s - loss: 0.6019 - acc: 0.6653\n",
      "Epoch 35/60\n",
      "505/505 - 0s - loss: 0.6007 - acc: 0.6752\n",
      "Epoch 36/60\n",
      "505/505 - 0s - loss: 0.5970 - acc: 0.6832\n",
      "Epoch 37/60\n",
      "505/505 - 0s - loss: 0.6018 - acc: 0.6891\n",
      "Epoch 38/60\n",
      "505/505 - 0s - loss: 0.5943 - acc: 0.6871\n",
      "Epoch 39/60\n",
      "505/505 - 0s - loss: 0.5998 - acc: 0.6871\n",
      "Epoch 40/60\n",
      "505/505 - 0s - loss: 0.5959 - acc: 0.6733\n",
      "Epoch 41/60\n",
      "505/505 - 0s - loss: 0.5878 - acc: 0.6970\n",
      "Epoch 42/60\n",
      "505/505 - 0s - loss: 0.5928 - acc: 0.6931\n",
      "Epoch 43/60\n",
      "505/505 - 0s - loss: 0.5898 - acc: 0.6891\n",
      "Epoch 44/60\n",
      "505/505 - 0s - loss: 0.5824 - acc: 0.6931\n",
      "Epoch 45/60\n",
      "505/505 - 0s - loss: 0.5820 - acc: 0.6891\n",
      "Epoch 46/60\n",
      "505/505 - 0s - loss: 0.5873 - acc: 0.6891\n",
      "Epoch 47/60\n",
      "505/505 - 0s - loss: 0.5813 - acc: 0.6950\n",
      "Epoch 48/60\n",
      "505/505 - 0s - loss: 0.5780 - acc: 0.7109\n",
      "Epoch 49/60\n",
      "505/505 - 0s - loss: 0.5709 - acc: 0.7149\n",
      "Epoch 50/60\n",
      "505/505 - 0s - loss: 0.5749 - acc: 0.6891\n",
      "Epoch 51/60\n",
      "505/505 - 0s - loss: 0.5696 - acc: 0.6950\n",
      "Epoch 52/60\n",
      "505/505 - 0s - loss: 0.5672 - acc: 0.7010\n",
      "Epoch 53/60\n",
      "505/505 - 0s - loss: 0.5653 - acc: 0.7109\n",
      "Epoch 54/60\n",
      "505/505 - 0s - loss: 0.5644 - acc: 0.7089\n",
      "Epoch 55/60\n",
      "505/505 - 0s - loss: 0.5639 - acc: 0.7168\n",
      "Epoch 56/60\n",
      "505/505 - 0s - loss: 0.5593 - acc: 0.7109\n",
      "Epoch 57/60\n",
      "505/505 - 0s - loss: 0.5540 - acc: 0.7208\n",
      "Epoch 58/60\n",
      "505/505 - 0s - loss: 0.5572 - acc: 0.7129\n",
      "Epoch 59/60\n",
      "505/505 - 0s - loss: 0.5570 - acc: 0.7149\n",
      "Epoch 60/60\n",
      "505/505 - 0s - loss: 0.5507 - acc: 0.7089\n"
     ]
    },
    {
     "data": {
      "text/plain": [
       "<tensorflow.python.keras.callbacks.History at 0x20c77e9d128>"
      ]
     },
     "execution_count": 26,
     "metadata": {},
     "output_type": "execute_result"
    }
   ],
   "source": [
    "model.fit(\n",
    "    X_train_scaled,\n",
    "    y_train_categorical,\n",
    "    epochs=60,\n",
    "    shuffle=True,\n",
    "    verbose=2\n",
    ")"
   ]
  },
  {
   "cell_type": "code",
   "execution_count": 27,
   "metadata": {},
   "outputs": [
    {
     "name": "stdout",
     "output_type": "stream",
     "text": [
      "169/169 - 0s - loss: 0.6722 - acc: 0.6213\n",
      "Normal Neural Network - Loss: 0.672189685014578, Accuracy: 0.6213017702102661\n"
     ]
    }
   ],
   "source": [
    "model_loss, model_accuracy = model.evaluate(\n",
    "    X_test_scaled, y_test_categorical, verbose=2)\n",
    "print(\n",
    "    f\"Normal Neural Network - Loss: {model_loss}, Accuracy: {model_accuracy}\")"
   ]
  },
  {
   "cell_type": "code",
   "execution_count": 28,
   "metadata": {},
   "outputs": [],
   "source": [
    "encoded_predictions = model.predict_classes(X_test_scaled[:5])\n",
    "prediction_labels = label_encoder.inverse_transform(encoded_predictions)"
   ]
  },
  {
   "cell_type": "code",
   "execution_count": 29,
   "metadata": {},
   "outputs": [
    {
     "name": "stdout",
     "output_type": "stream",
     "text": [
      "Predicted classes: ['male' 'female' 'female' 'female' 'female']\n",
      "Actual Labels: ['male', 'female', 'female', 'male', 'female']\n"
     ]
    }
   ],
   "source": [
    "print(f\"Predicted classes: {prediction_labels}\")\n",
    "print(f\"Actual Labels: {list(y_test[:5])}\")"
   ]
  },
  {
   "cell_type": "code",
   "execution_count": null,
   "metadata": {},
   "outputs": [],
   "source": []
  }
 ],
 "metadata": {
  "kernelspec": {
   "display_name": "Python 3.7.3 64-bit ('base': conda)",
   "language": "python",
   "name": "python37364bitbaseconda9f475500b0c944b3a7060e93115389c2"
  },
  "language_info": {
   "codemirror_mode": {
    "name": "ipython",
    "version": 3
   },
   "file_extension": ".py",
   "mimetype": "text/x-python",
   "name": "python",
   "nbconvert_exporter": "python",
   "pygments_lexer": "ipython3",
   "version": "3.7.3"
  }
 },
 "nbformat": 4,
 "nbformat_minor": 2
}
