{
 "cells": [
  {
   "cell_type": "code",
   "execution_count": 5,
   "metadata": {},
   "outputs": [],
   "source": [
    "import pandas as pd"
   ]
  },
  {
   "cell_type": "code",
   "execution_count": 18,
   "metadata": {},
   "outputs": [],
   "source": [
    "dict = {\"Prioritizing workload\": [3], \"Writing notes\" : [1], \"Thinking ahead\" : [2], \"Reliability\": [1],\n",
    "        \"Keeping promises\": [2], \"Funniness\" : [3], \"Criminal damage\": [1], \"Elections\": [2],\n",
    "        \"Self-criticism\": [2], \"Empathy\": [1], \"Eating to survive\": [3], \"Giving\": [1], \n",
    "        \"Compassion to animals\": [2], \"Borrowed stuff\": [2], \"Loneliness\": [3], \n",
    "        \"Cheating in school\": [1], \"Health\": [2], \"God\": [3], \"Charity\": [1], \n",
    "        \"Number of friends\": [2], \"Waiting\": [3], \"Mood swings\": [1], \"Appearance and gestures\": [2], \n",
    "        \"Socializing\": [3], \"Children\": [1], \"Getting angry\": [2], \"Knowing the right people\": [3], \n",
    "        \"Public speaking\": [1], \"Unpopularity\": [2], \"Life struggles\": [3], \"Happiness in life\": [1], \n",
    "        \"Energy levels\": [2], \"Personality\": [3], \"Finding lost valuables\": [1], \"Getting up\": [2], \n",
    "        \"Interests or hobbies\": [3], \"Parents' advice\": [1], \"Questionnaires or polls\": [2]}"
   ]
  },
  {
   "cell_type": "code",
   "execution_count": 19,
   "metadata": {},
   "outputs": [
    {
     "data": {
      "text/html": [
       "<div>\n",
       "<style scoped>\n",
       "    .dataframe tbody tr th:only-of-type {\n",
       "        vertical-align: middle;\n",
       "    }\n",
       "\n",
       "    .dataframe tbody tr th {\n",
       "        vertical-align: top;\n",
       "    }\n",
       "\n",
       "    .dataframe thead th {\n",
       "        text-align: right;\n",
       "    }\n",
       "</style>\n",
       "<table border=\"1\" class=\"dataframe\">\n",
       "  <thead>\n",
       "    <tr style=\"text-align: right;\">\n",
       "      <th></th>\n",
       "      <th>Prioritizing workload</th>\n",
       "      <th>Writing notes</th>\n",
       "      <th>Thinking ahead</th>\n",
       "      <th>Reliability</th>\n",
       "      <th>Keeping promises</th>\n",
       "      <th>Funniness</th>\n",
       "      <th>Criminal damage</th>\n",
       "      <th>Elections</th>\n",
       "      <th>Self-criticism</th>\n",
       "      <th>Empathy</th>\n",
       "      <th>...</th>\n",
       "      <th>Unpopularity</th>\n",
       "      <th>Life struggles</th>\n",
       "      <th>Happiness in life</th>\n",
       "      <th>Energy levels</th>\n",
       "      <th>Personality</th>\n",
       "      <th>Finding lost valuables</th>\n",
       "      <th>Getting up</th>\n",
       "      <th>Interests or hobbies</th>\n",
       "      <th>Parents' advice</th>\n",
       "      <th>Questionnaires or polls</th>\n",
       "    </tr>\n",
       "  </thead>\n",
       "  <tbody>\n",
       "    <tr>\n",
       "      <td>0</td>\n",
       "      <td>3</td>\n",
       "      <td>1</td>\n",
       "      <td>2</td>\n",
       "      <td>1</td>\n",
       "      <td>2</td>\n",
       "      <td>3</td>\n",
       "      <td>1</td>\n",
       "      <td>2</td>\n",
       "      <td>2</td>\n",
       "      <td>1</td>\n",
       "      <td>...</td>\n",
       "      <td>2</td>\n",
       "      <td>3</td>\n",
       "      <td>1</td>\n",
       "      <td>2</td>\n",
       "      <td>3</td>\n",
       "      <td>1</td>\n",
       "      <td>2</td>\n",
       "      <td>3</td>\n",
       "      <td>1</td>\n",
       "      <td>2</td>\n",
       "    </tr>\n",
       "  </tbody>\n",
       "</table>\n",
       "<p>1 rows × 38 columns</p>\n",
       "</div>"
      ],
      "text/plain": [
       "   Prioritizing workload  Writing notes  Thinking ahead  Reliability  \\\n",
       "0                      3              1               2            1   \n",
       "\n",
       "   Keeping promises  Funniness  Criminal damage  Elections  Self-criticism  \\\n",
       "0                 2          3                1          2               2   \n",
       "\n",
       "   Empathy  ...  Unpopularity  Life struggles  Happiness in life  \\\n",
       "0        1  ...             2               3                  1   \n",
       "\n",
       "   Energy levels  Personality  Finding lost valuables  Getting up  \\\n",
       "0              2            3                       1           2   \n",
       "\n",
       "   Interests or hobbies  Parents' advice  Questionnaires or polls  \n",
       "0                     3                1                        2  \n",
       "\n",
       "[1 rows x 38 columns]"
      ]
     },
     "execution_count": 19,
     "metadata": {},
     "output_type": "execute_result"
    }
   ],
   "source": [
    "all_features_df = pd.DataFrame(dict)\n",
    "all_features_df"
   ]
  },
  {
   "cell_type": "code",
   "execution_count": 20,
   "metadata": {},
   "outputs": [],
   "source": [
    "gender_features_df = all_features_df[[\"Prioritizing workload\", \"Writing notes\", \"Reliability\",\n",
    "                                     \"Keeping promises\", \"Funniness\", \"Criminal damage\", \"Empathy\",\n",
    "                                     \"Eating to survive\", \"Giving\", \"Compassion to animals\",\n",
    "                                     \"Mood swings\", \"Socializing\", \"Life struggles\", \"Personality\",\n",
    "                                     \"Interests or hobbies\", \"Questionnaires or polls\"]]"
   ]
  },
  {
   "cell_type": "code",
   "execution_count": 21,
   "metadata": {},
   "outputs": [
    {
     "data": {
      "text/html": [
       "<div>\n",
       "<style scoped>\n",
       "    .dataframe tbody tr th:only-of-type {\n",
       "        vertical-align: middle;\n",
       "    }\n",
       "\n",
       "    .dataframe tbody tr th {\n",
       "        vertical-align: top;\n",
       "    }\n",
       "\n",
       "    .dataframe thead th {\n",
       "        text-align: right;\n",
       "    }\n",
       "</style>\n",
       "<table border=\"1\" class=\"dataframe\">\n",
       "  <thead>\n",
       "    <tr style=\"text-align: right;\">\n",
       "      <th></th>\n",
       "      <th>Prioritizing workload</th>\n",
       "      <th>Writing notes</th>\n",
       "      <th>Reliability</th>\n",
       "      <th>Keeping promises</th>\n",
       "      <th>Funniness</th>\n",
       "      <th>Criminal damage</th>\n",
       "      <th>Empathy</th>\n",
       "      <th>Eating to survive</th>\n",
       "      <th>Giving</th>\n",
       "      <th>Compassion to animals</th>\n",
       "      <th>Mood swings</th>\n",
       "      <th>Socializing</th>\n",
       "      <th>Life struggles</th>\n",
       "      <th>Personality</th>\n",
       "      <th>Interests or hobbies</th>\n",
       "      <th>Questionnaires or polls</th>\n",
       "    </tr>\n",
       "  </thead>\n",
       "  <tbody>\n",
       "    <tr>\n",
       "      <td>0</td>\n",
       "      <td>3</td>\n",
       "      <td>1</td>\n",
       "      <td>1</td>\n",
       "      <td>2</td>\n",
       "      <td>3</td>\n",
       "      <td>1</td>\n",
       "      <td>1</td>\n",
       "      <td>3</td>\n",
       "      <td>1</td>\n",
       "      <td>2</td>\n",
       "      <td>1</td>\n",
       "      <td>3</td>\n",
       "      <td>3</td>\n",
       "      <td>3</td>\n",
       "      <td>3</td>\n",
       "      <td>2</td>\n",
       "    </tr>\n",
       "  </tbody>\n",
       "</table>\n",
       "</div>"
      ],
      "text/plain": [
       "   Prioritizing workload  Writing notes  Reliability  Keeping promises  \\\n",
       "0                      3              1            1                 2   \n",
       "\n",
       "   Funniness  Criminal damage  Empathy  Eating to survive  Giving  \\\n",
       "0          3                1        1                  3       1   \n",
       "\n",
       "   Compassion to animals  Mood swings  Socializing  Life struggles  \\\n",
       "0                      2            1            3               3   \n",
       "\n",
       "   Personality  Interests or hobbies  Questionnaires or polls  \n",
       "0            3                     3                        2  "
      ]
     },
     "execution_count": 21,
     "metadata": {},
     "output_type": "execute_result"
    }
   ],
   "source": [
    "gender_features_df"
   ]
  },
  {
   "cell_type": "code",
   "execution_count": 22,
   "metadata": {},
   "outputs": [],
   "source": [
    "snake_features_df = all_features_df[[\"Thinking ahead\", \"Health\", \"God\", \"Number of friends\",\n",
    "                                    \"Children\", \"Getting angry\", \"Public speaking\", \"Parents' advice\"]]"
   ]
  },
  {
   "cell_type": "code",
   "execution_count": 24,
   "metadata": {},
   "outputs": [],
   "source": [
    "heights_features_df = all_features_df[[\"Funniness\", \"Self-criticism\", \"Eating to survive\", \"Loneliness\",\n",
    "                                      \"Health\", \"Waiting\", \"Appearance and gestures\",\n",
    "                                      \"Knowing the right people\", \"Life struggles\", \"Energy levels\"]]"
   ]
  },
  {
   "cell_type": "code",
   "execution_count": 25,
   "metadata": {},
   "outputs": [],
   "source": [
    "education_features_df = [[\"Elections\", \"Borrowed stuff\", \"Cheating in school\", \"God\", \"Charity\",\n",
    "                         \"Waiting\", \"Appearance and gestures\", \"Happiness to life\", \"Personality\",\n",
    "                         \"Finding lost valuables\"]]"
   ]
  },
  {
   "cell_type": "code",
   "execution_count": 26,
   "metadata": {},
   "outputs": [],
   "source": [
    "spider_features_df = [[\"Number of friends\", \"Appearance and gestures\", \"Children\", \"Getting angry\",\n",
    "                      \"Public speaking\", \"Unpopularity\", \"Life struggles\", \"Happiness in life\",\n",
    "                      \"Getting up\", \"Questionnaires or polls\"]]"
   ]
  },
  {
   "cell_type": "code",
   "execution_count": null,
   "metadata": {},
   "outputs": [],
   "source": []
  }
 ],
 "metadata": {
  "kernelspec": {
   "display_name": "Python 3",
   "language": "python",
   "name": "python3"
  },
  "language_info": {
   "codemirror_mode": {
    "name": "ipython",
    "version": 3
   },
   "file_extension": ".py",
   "mimetype": "text/x-python",
   "name": "python",
   "nbconvert_exporter": "python",
   "pygments_lexer": "ipython3",
   "version": "3.6.9"
  }
 },
 "nbformat": 4,
 "nbformat_minor": 2
}
