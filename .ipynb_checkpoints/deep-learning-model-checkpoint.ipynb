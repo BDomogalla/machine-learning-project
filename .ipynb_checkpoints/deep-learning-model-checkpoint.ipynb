{
 "cells": [
  {
   "cell_type": "code",
   "execution_count": 2,
   "metadata": {},
   "outputs": [],
   "source": [
    "# Set the seed value for the notebook so the results are reproducible\n",
    "from numpy.random import seed\n",
    "seed(1)"
   ]
  },
  {
   "cell_type": "code",
   "execution_count": 3,
   "metadata": {},
   "outputs": [],
   "source": [
    "# Dependencies\n",
    "import numpy as np\n",
    "import pandas as pd"
   ]
  },
  {
   "cell_type": "code",
   "execution_count": 4,
   "metadata": {},
   "outputs": [
    {
     "data": {
      "text/plain": [
       "'2.2.4-tf'"
      ]
     },
     "execution_count": 4,
     "metadata": {},
     "output_type": "execute_result"
    }
   ],
   "source": [
    "import tensorflow\n",
    "tensorflow.keras.__version__"
   ]
  },
  {
   "cell_type": "code",
   "execution_count": 5,
   "metadata": {},
   "outputs": [
    {
     "data": {
      "text/html": [
       "<div>\n",
       "<style scoped>\n",
       "    .dataframe tbody tr th:only-of-type {\n",
       "        vertical-align: middle;\n",
       "    }\n",
       "\n",
       "    .dataframe tbody tr th {\n",
       "        vertical-align: top;\n",
       "    }\n",
       "\n",
       "    .dataframe thead th {\n",
       "        text-align: right;\n",
       "    }\n",
       "</style>\n",
       "<table border=\"1\" class=\"dataframe\">\n",
       "  <thead>\n",
       "    <tr style=\"text-align: right;\">\n",
       "      <th></th>\n",
       "      <th>Music</th>\n",
       "      <th>Slow songs or fast songs</th>\n",
       "      <th>Dance</th>\n",
       "      <th>Folk</th>\n",
       "      <th>Country</th>\n",
       "      <th>Classical music</th>\n",
       "      <th>Musical</th>\n",
       "      <th>Pop</th>\n",
       "      <th>Rock</th>\n",
       "      <th>Metal or Hardrock</th>\n",
       "      <th>...</th>\n",
       "      <th>Age</th>\n",
       "      <th>Height</th>\n",
       "      <th>Weight</th>\n",
       "      <th>Number of siblings</th>\n",
       "      <th>Gender</th>\n",
       "      <th>Left - right handed</th>\n",
       "      <th>Education</th>\n",
       "      <th>Only child</th>\n",
       "      <th>Village - town</th>\n",
       "      <th>House - block of flats</th>\n",
       "    </tr>\n",
       "  </thead>\n",
       "  <tbody>\n",
       "    <tr>\n",
       "      <th>0</th>\n",
       "      <td>5.0</td>\n",
       "      <td>3.0</td>\n",
       "      <td>2.0</td>\n",
       "      <td>1.0</td>\n",
       "      <td>2.0</td>\n",
       "      <td>2.0</td>\n",
       "      <td>1.0</td>\n",
       "      <td>5.0</td>\n",
       "      <td>5.0</td>\n",
       "      <td>1.0</td>\n",
       "      <td>...</td>\n",
       "      <td>20.0</td>\n",
       "      <td>163.0</td>\n",
       "      <td>48.0</td>\n",
       "      <td>1.0</td>\n",
       "      <td>female</td>\n",
       "      <td>right handed</td>\n",
       "      <td>college/bachelor degree</td>\n",
       "      <td>no</td>\n",
       "      <td>village</td>\n",
       "      <td>block of flats</td>\n",
       "    </tr>\n",
       "    <tr>\n",
       "      <th>1</th>\n",
       "      <td>4.0</td>\n",
       "      <td>4.0</td>\n",
       "      <td>2.0</td>\n",
       "      <td>1.0</td>\n",
       "      <td>1.0</td>\n",
       "      <td>1.0</td>\n",
       "      <td>2.0</td>\n",
       "      <td>3.0</td>\n",
       "      <td>5.0</td>\n",
       "      <td>4.0</td>\n",
       "      <td>...</td>\n",
       "      <td>19.0</td>\n",
       "      <td>163.0</td>\n",
       "      <td>58.0</td>\n",
       "      <td>2.0</td>\n",
       "      <td>female</td>\n",
       "      <td>right handed</td>\n",
       "      <td>college/bachelor degree</td>\n",
       "      <td>no</td>\n",
       "      <td>city</td>\n",
       "      <td>block of flats</td>\n",
       "    </tr>\n",
       "    <tr>\n",
       "      <th>2</th>\n",
       "      <td>5.0</td>\n",
       "      <td>5.0</td>\n",
       "      <td>2.0</td>\n",
       "      <td>2.0</td>\n",
       "      <td>3.0</td>\n",
       "      <td>4.0</td>\n",
       "      <td>5.0</td>\n",
       "      <td>3.0</td>\n",
       "      <td>5.0</td>\n",
       "      <td>3.0</td>\n",
       "      <td>...</td>\n",
       "      <td>20.0</td>\n",
       "      <td>176.0</td>\n",
       "      <td>67.0</td>\n",
       "      <td>2.0</td>\n",
       "      <td>female</td>\n",
       "      <td>right handed</td>\n",
       "      <td>secondary school</td>\n",
       "      <td>no</td>\n",
       "      <td>city</td>\n",
       "      <td>block of flats</td>\n",
       "    </tr>\n",
       "    <tr>\n",
       "      <th>4</th>\n",
       "      <td>5.0</td>\n",
       "      <td>3.0</td>\n",
       "      <td>4.0</td>\n",
       "      <td>3.0</td>\n",
       "      <td>2.0</td>\n",
       "      <td>4.0</td>\n",
       "      <td>3.0</td>\n",
       "      <td>5.0</td>\n",
       "      <td>3.0</td>\n",
       "      <td>1.0</td>\n",
       "      <td>...</td>\n",
       "      <td>20.0</td>\n",
       "      <td>170.0</td>\n",
       "      <td>59.0</td>\n",
       "      <td>1.0</td>\n",
       "      <td>female</td>\n",
       "      <td>right handed</td>\n",
       "      <td>secondary school</td>\n",
       "      <td>no</td>\n",
       "      <td>village</td>\n",
       "      <td>house/bungalow</td>\n",
       "    </tr>\n",
       "    <tr>\n",
       "      <th>5</th>\n",
       "      <td>5.0</td>\n",
       "      <td>3.0</td>\n",
       "      <td>2.0</td>\n",
       "      <td>3.0</td>\n",
       "      <td>2.0</td>\n",
       "      <td>3.0</td>\n",
       "      <td>3.0</td>\n",
       "      <td>2.0</td>\n",
       "      <td>5.0</td>\n",
       "      <td>5.0</td>\n",
       "      <td>...</td>\n",
       "      <td>20.0</td>\n",
       "      <td>186.0</td>\n",
       "      <td>77.0</td>\n",
       "      <td>1.0</td>\n",
       "      <td>male</td>\n",
       "      <td>right handed</td>\n",
       "      <td>secondary school</td>\n",
       "      <td>no</td>\n",
       "      <td>city</td>\n",
       "      <td>block of flats</td>\n",
       "    </tr>\n",
       "  </tbody>\n",
       "</table>\n",
       "<p>5 rows × 150 columns</p>\n",
       "</div>"
      ],
      "text/plain": [
       "   Music  Slow songs or fast songs  Dance  Folk  Country  Classical music  \\\n",
       "0    5.0                       3.0    2.0   1.0      2.0              2.0   \n",
       "1    4.0                       4.0    2.0   1.0      1.0              1.0   \n",
       "2    5.0                       5.0    2.0   2.0      3.0              4.0   \n",
       "4    5.0                       3.0    4.0   3.0      2.0              4.0   \n",
       "5    5.0                       3.0    2.0   3.0      2.0              3.0   \n",
       "\n",
       "   Musical  Pop  Rock  Metal or Hardrock  ...   Age  Height  Weight  \\\n",
       "0      1.0  5.0   5.0                1.0  ...  20.0   163.0    48.0   \n",
       "1      2.0  3.0   5.0                4.0  ...  19.0   163.0    58.0   \n",
       "2      5.0  3.0   5.0                3.0  ...  20.0   176.0    67.0   \n",
       "4      3.0  5.0   3.0                1.0  ...  20.0   170.0    59.0   \n",
       "5      3.0  2.0   5.0                5.0  ...  20.0   186.0    77.0   \n",
       "\n",
       "   Number of siblings  Gender  Left - right handed                Education  \\\n",
       "0                 1.0  female         right handed  college/bachelor degree   \n",
       "1                 2.0  female         right handed  college/bachelor degree   \n",
       "2                 2.0  female         right handed         secondary school   \n",
       "4                 1.0  female         right handed         secondary school   \n",
       "5                 1.0    male         right handed         secondary school   \n",
       "\n",
       "   Only child  Village - town  House - block of flats  \n",
       "0          no         village          block of flats  \n",
       "1          no            city          block of flats  \n",
       "2          no            city          block of flats  \n",
       "4          no         village          house/bungalow  \n",
       "5          no            city          block of flats  \n",
       "\n",
       "[5 rows x 150 columns]"
      ]
     },
     "execution_count": 5,
     "metadata": {},
     "output_type": "execute_result"
    }
   ],
   "source": [
    "df = pd.read_csv(\"Data/responses.csv\")\n",
    "# Drop the null columns where all values are null\n",
    "df = df.dropna(axis='columns', how='all')\n",
    "# Drop the null rows\n",
    "df = df.dropna()\n",
    "df.head()\n",
    "df.head()"
   ]
  },
  {
   "cell_type": "code",
   "execution_count": 30,
   "metadata": {},
   "outputs": [],
   "source": [
    "selected_features = df[['Age','Height','Weight']]\n"
   ]
  },
  {
   "cell_type": "code",
   "execution_count": 31,
   "metadata": {},
   "outputs": [
    {
     "name": "stdout",
     "output_type": "stream",
     "text": [
      "(674, 3) (674,)\n"
     ]
    }
   ],
   "source": [
    "X = selected_features\n",
    "y = df[\"Gender\"]\n",
    "print(X.shape, y.shape)"
   ]
  },
  {
   "cell_type": "code",
   "execution_count": 32,
   "metadata": {},
   "outputs": [],
   "source": [
    "from sklearn.model_selection import train_test_split\n",
    "from sklearn.preprocessing import LabelEncoder, MinMaxScaler\n",
    "from tensorflow.keras.utils import to_categorical"
   ]
  },
  {
   "cell_type": "code",
   "execution_count": 33,
   "metadata": {},
   "outputs": [],
   "source": [
    "X_train, X_test, y_train, y_test = train_test_split(\n",
    "    X, y, random_state=1, stratify=y)"
   ]
  },
  {
   "cell_type": "code",
   "execution_count": 34,
   "metadata": {},
   "outputs": [],
   "source": [
    "X_scaler = MinMaxScaler().fit(X_train)\n",
    "X_train_scaled = X_scaler.transform(X_train)\n",
    "X_test_scaled = X_scaler.transform(X_test)"
   ]
  },
  {
   "cell_type": "code",
   "execution_count": 35,
   "metadata": {},
   "outputs": [],
   "source": [
    "# Step 1: Label-encode data set\n",
    "label_encoder = LabelEncoder()\n",
    "label_encoder.fit(y_train)\n",
    "encoded_y_train = label_encoder.transform(y_train)\n",
    "encoded_y_test = label_encoder.transform(y_test)"
   ]
  },
  {
   "cell_type": "code",
   "execution_count": 36,
   "metadata": {},
   "outputs": [],
   "source": [
    "# Step 2: Convert encoded labels to one-hot-encoding\n",
    "y_train_categorical = to_categorical(encoded_y_train)\n",
    "y_test_categorical = to_categorical(encoded_y_test)"
   ]
  },
  {
   "cell_type": "code",
   "execution_count": 37,
   "metadata": {},
   "outputs": [],
   "source": [
    "from tensorflow.keras.models import Sequential\n",
    "from tensorflow.keras.layers import Dense"
   ]
  },
  {
   "cell_type": "code",
   "execution_count": 63,
   "metadata": {},
   "outputs": [],
   "source": [
    "# Create model and add layers\n",
    "model = Sequential()\n",
    "model.add(Dense(units=100, activation='relu', input_dim= (X.shape[1])))\n",
    "model.add(Dense(units=100, activation='relu'))\n",
    "model.add(Dense(units=2, activation='softmax'))"
   ]
  },
  {
   "cell_type": "code",
   "execution_count": 64,
   "metadata": {},
   "outputs": [],
   "source": [
    "# Compile and fit the model\n",
    "model.compile(optimizer='adam',\n",
    "              loss='categorical_crossentropy',\n",
    "              metrics=['accuracy'])"
   ]
  },
  {
   "cell_type": "code",
   "execution_count": 65,
   "metadata": {},
   "outputs": [
    {
     "name": "stdout",
     "output_type": "stream",
     "text": [
      "Model: \"sequential_5\"\n",
      "_________________________________________________________________\n",
      "Layer (type)                 Output Shape              Param #   \n",
      "=================================================================\n",
      "dense_15 (Dense)             (None, 100)               400       \n",
      "_________________________________________________________________\n",
      "dense_16 (Dense)             (None, 100)               10100     \n",
      "_________________________________________________________________\n",
      "dense_17 (Dense)             (None, 2)                 202       \n",
      "=================================================================\n",
      "Total params: 10,702\n",
      "Trainable params: 10,702\n",
      "Non-trainable params: 0\n",
      "_________________________________________________________________\n"
     ]
    }
   ],
   "source": [
    "model.summary()"
   ]
  },
  {
   "cell_type": "code",
   "execution_count": 66,
   "metadata": {},
   "outputs": [
    {
     "name": "stdout",
     "output_type": "stream",
     "text": [
      "Epoch 1/60\n",
      "505/505 - 0s - loss: 0.6696 - acc: 0.6495\n",
      "Epoch 2/60\n",
      "505/505 - 0s - loss: 0.6036 - acc: 0.7921\n",
      "Epoch 3/60\n",
      "505/505 - 0s - loss: 0.5318 - acc: 0.8277\n",
      "Epoch 4/60\n",
      "505/505 - 0s - loss: 0.4579 - acc: 0.8495\n",
      "Epoch 5/60\n",
      "505/505 - 0s - loss: 0.3976 - acc: 0.8535\n",
      "Epoch 6/60\n",
      "505/505 - 0s - loss: 0.3465 - acc: 0.8851\n",
      "Epoch 7/60\n",
      "505/505 - 0s - loss: 0.3191 - acc: 0.8950\n",
      "Epoch 8/60\n",
      "505/505 - 0s - loss: 0.3046 - acc: 0.8871\n",
      "Epoch 9/60\n",
      "505/505 - 0s - loss: 0.2944 - acc: 0.8851\n",
      "Epoch 10/60\n",
      "505/505 - 0s - loss: 0.2965 - acc: 0.8931\n",
      "Epoch 11/60\n",
      "505/505 - 0s - loss: 0.2973 - acc: 0.8812\n",
      "Epoch 12/60\n",
      "505/505 - 0s - loss: 0.2911 - acc: 0.8950\n",
      "Epoch 13/60\n",
      "505/505 - 0s - loss: 0.2868 - acc: 0.8871\n",
      "Epoch 14/60\n",
      "505/505 - 0s - loss: 0.2845 - acc: 0.8931\n",
      "Epoch 15/60\n",
      "505/505 - 0s - loss: 0.2939 - acc: 0.8733\n",
      "Epoch 16/60\n",
      "505/505 - 0s - loss: 0.2973 - acc: 0.8851\n",
      "Epoch 17/60\n",
      "505/505 - 0s - loss: 0.2852 - acc: 0.8871\n",
      "Epoch 18/60\n",
      "505/505 - 0s - loss: 0.2822 - acc: 0.8911\n",
      "Epoch 19/60\n",
      "505/505 - 0s - loss: 0.2828 - acc: 0.8911\n",
      "Epoch 20/60\n",
      "505/505 - 0s - loss: 0.2827 - acc: 0.8891\n",
      "Epoch 21/60\n",
      "505/505 - 0s - loss: 0.2787 - acc: 0.8990\n",
      "Epoch 22/60\n",
      "505/505 - 0s - loss: 0.2782 - acc: 0.8911\n",
      "Epoch 23/60\n",
      "505/505 - 0s - loss: 0.2786 - acc: 0.8931\n",
      "Epoch 24/60\n",
      "505/505 - 0s - loss: 0.2795 - acc: 0.8950\n",
      "Epoch 25/60\n",
      "505/505 - 0s - loss: 0.2779 - acc: 0.8871\n",
      "Epoch 26/60\n",
      "505/505 - 0s - loss: 0.2890 - acc: 0.8772\n",
      "Epoch 27/60\n",
      "505/505 - 0s - loss: 0.2835 - acc: 0.8891\n",
      "Epoch 28/60\n",
      "505/505 - 0s - loss: 0.2792 - acc: 0.8891\n",
      "Epoch 29/60\n",
      "505/505 - 0s - loss: 0.2760 - acc: 0.8871\n",
      "Epoch 30/60\n",
      "505/505 - 0s - loss: 0.2740 - acc: 0.8950\n",
      "Epoch 31/60\n",
      "505/505 - 0s - loss: 0.2759 - acc: 0.8970\n",
      "Epoch 32/60\n",
      "505/505 - 0s - loss: 0.2764 - acc: 0.8970\n",
      "Epoch 33/60\n",
      "505/505 - 0s - loss: 0.2739 - acc: 0.8970\n",
      "Epoch 34/60\n",
      "505/505 - 0s - loss: 0.2847 - acc: 0.8851\n",
      "Epoch 35/60\n",
      "505/505 - 0s - loss: 0.2776 - acc: 0.8891\n",
      "Epoch 36/60\n",
      "505/505 - 0s - loss: 0.2735 - acc: 0.8891\n",
      "Epoch 37/60\n",
      "505/505 - 0s - loss: 0.2741 - acc: 0.8911\n",
      "Epoch 38/60\n",
      "505/505 - 0s - loss: 0.2843 - acc: 0.8891\n",
      "Epoch 39/60\n",
      "505/505 - 0s - loss: 0.2715 - acc: 0.8871\n",
      "Epoch 40/60\n",
      "505/505 - 0s - loss: 0.2725 - acc: 0.8911\n",
      "Epoch 41/60\n",
      "505/505 - 0s - loss: 0.2829 - acc: 0.8950\n",
      "Epoch 42/60\n",
      "505/505 - 0s - loss: 0.2716 - acc: 0.8871\n",
      "Epoch 43/60\n",
      "505/505 - 0s - loss: 0.2751 - acc: 0.8931\n",
      "Epoch 44/60\n",
      "505/505 - 0s - loss: 0.2741 - acc: 0.8931\n",
      "Epoch 45/60\n",
      "505/505 - 0s - loss: 0.2730 - acc: 0.8950\n",
      "Epoch 46/60\n",
      "505/505 - 0s - loss: 0.2703 - acc: 0.8950\n",
      "Epoch 47/60\n",
      "505/505 - 0s - loss: 0.2735 - acc: 0.8931\n",
      "Epoch 48/60\n",
      "505/505 - 0s - loss: 0.2787 - acc: 0.8871\n",
      "Epoch 49/60\n",
      "505/505 - 0s - loss: 0.2686 - acc: 0.8911\n",
      "Epoch 50/60\n",
      "505/505 - 0s - loss: 0.2716 - acc: 0.8990\n",
      "Epoch 51/60\n",
      "505/505 - 0s - loss: 0.2824 - acc: 0.8832\n",
      "Epoch 52/60\n",
      "505/505 - 0s - loss: 0.2665 - acc: 0.8950\n",
      "Epoch 53/60\n",
      "505/505 - 0s - loss: 0.2711 - acc: 0.8891\n",
      "Epoch 54/60\n",
      "505/505 - 0s - loss: 0.2673 - acc: 0.8970\n",
      "Epoch 55/60\n",
      "505/505 - 0s - loss: 0.2685 - acc: 0.8851\n",
      "Epoch 56/60\n",
      "505/505 - 0s - loss: 0.2787 - acc: 0.8891\n",
      "Epoch 57/60\n",
      "505/505 - 0s - loss: 0.2669 - acc: 0.8950\n",
      "Epoch 58/60\n",
      "505/505 - 0s - loss: 0.2680 - acc: 0.8990\n",
      "Epoch 59/60\n",
      "505/505 - 0s - loss: 0.2713 - acc: 0.8911\n",
      "Epoch 60/60\n",
      "505/505 - 0s - loss: 0.2733 - acc: 0.8832\n"
     ]
    },
    {
     "data": {
      "text/plain": [
       "<tensorflow.python.keras.callbacks.History at 0x20c7b4b2cf8>"
      ]
     },
     "execution_count": 66,
     "metadata": {},
     "output_type": "execute_result"
    }
   ],
   "source": [
    "model.fit(\n",
    "    X_train_scaled,\n",
    "    y_train_categorical,\n",
    "    epochs=60,\n",
    "    shuffle=True,\n",
    "    verbose=2\n",
    ")"
   ]
  },
  {
   "cell_type": "code",
   "execution_count": 67,
   "metadata": {},
   "outputs": [
    {
     "name": "stdout",
     "output_type": "stream",
     "text": [
      "169/169 - 0s - loss: 0.3098 - acc: 0.8757\n",
      "Normal Neural Network - Loss: 0.3098039021329767, Accuracy: 0.8757396340370178\n"
     ]
    }
   ],
   "source": [
    "model_loss, model_accuracy = model.evaluate(\n",
    "    X_test_scaled, y_test_categorical, verbose=2)\n",
    "print(\n",
    "    f\"Normal Neural Network - Loss: {model_loss}, Accuracy: {model_accuracy}\")"
   ]
  },
  {
   "cell_type": "code",
   "execution_count": 68,
   "metadata": {},
   "outputs": [],
   "source": [
    "encoded_predictions = model.predict_classes(X_test_scaled[:5])\n",
    "prediction_labels = label_encoder.inverse_transform(encoded_predictions)"
   ]
  },
  {
   "cell_type": "code",
   "execution_count": 58,
   "metadata": {},
   "outputs": [
    {
     "name": "stdout",
     "output_type": "stream",
     "text": [
      "Predicted classes: ['male' 'female' 'female' 'male' 'female']\n",
      "Actual Labels: ['male', 'female', 'female', 'male', 'female']\n"
     ]
    }
   ],
   "source": [
    "print(f\"Predicted classes: {prediction_labels}\")\n",
    "print(f\"Actual Labels: {list(y_test[:5])}\")"
   ]
  },
  {
   "cell_type": "code",
   "execution_count": null,
   "metadata": {},
   "outputs": [],
   "source": []
  }
 ],
 "metadata": {
  "kernelspec": {
   "display_name": "Python 3.7.3 64-bit ('base': conda)",
   "language": "python",
   "name": "python37364bitbaseconda9f475500b0c944b3a7060e93115389c2"
  },
  "language_info": {
   "codemirror_mode": {
    "name": "ipython",
    "version": 3
   },
   "file_extension": ".py",
   "mimetype": "text/x-python",
   "name": "python",
   "nbconvert_exporter": "python",
   "pygments_lexer": "ipython3",
   "version": "3.7.3"
  }
 },
 "nbformat": 4,
 "nbformat_minor": 2
}
