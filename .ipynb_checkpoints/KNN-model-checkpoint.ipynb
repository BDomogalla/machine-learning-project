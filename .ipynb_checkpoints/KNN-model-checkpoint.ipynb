{
 "cells": [
  {
   "cell_type": "code",
   "execution_count": 1,
   "metadata": {},
   "outputs": [],
   "source": [
    "import matplotlib.pyplot as plt\n",
    "from sklearn.neighbors import KNeighborsClassifier\n",
    "import pandas as pd\n",
    "import os"
   ]
  },
  {
   "cell_type": "code",
   "execution_count": 2,
   "metadata": {},
   "outputs": [],
   "source": [
    "#df = pd.read_csv(\"Data/responses.csv\")\n",
    "# Drop the null columns where all values are null\n",
    "#df = df.dropna(axis='columns', how='all')\n",
    "# Drop the null rows\n",
    "#df = df.dropna()\n",
    "#df.head()\n"
   ]
  },
  {
   "cell_type": "code",
   "execution_count": 3,
   "metadata": {},
   "outputs": [],
   "source": [
    "df = pd.read_csv(\"Data/personality_traits_adjusted_scale_MOSHER.csv\")\n",
    "#Drop the null columns where all values are null\n",
    "df = df.dropna(axis='columns', how='all')\n",
    "#Drop the null rows\n",
    "df = df.dropna()\n",
    "df.head()"
   ]
  },
  {
   "cell_type": "code",
   "execution_count": 4,
   "metadata": {},
   "outputs": [],
   "source": [
    "adj_heights_features = df[[\"Funniness\", \"Loneliness\", \"Energy_levels\", \"Knowing_the_right_people\", \"Eating_to_survive\",\n",
    "                           \"Waiting\", \"Life_struggles\", \"Appearence_and_gestures\", \"Self_criticism\", \"Health\"]]\n",
    "\n",
    "adj_snakes_features = df[[\"Health\", \"Public_speaking\", \"Thinking_ahead\", \"Getting_angry\", \"God\", \"Number_of_friends\",\n",
    "                          \"Children\"]]\n",
    "\n",
    "#adj_public_speaking_features = phobia_df[[\"Health\", \"God\", \"New_environment\", \"Parents_advice\", \"Appearence_and_gestures\",\n",
    " #                                  \"Assertiveness\", \"Socializing\", \"Hypochondria\", \"Changing_the_past\", \"Friends_versus_money\"]]\n",
    "\n",
    "#adj_ageing_features = phobia_df[[\"Health\", \"Appearence_and_gestures\", \"God\", \"Compassion_to_animals\", \"Cheating_in_school\",\n",
    " #                         \"Life_struggles\", \"Knowing_the_right_people\", \"Giving\", \"Waiting\", \"Finding_lost_valuables\",\n",
    "  #                        \"Empathy\", \"Judgment_calls\"]]\n",
    "\n",
    "adj_spiders_features = df[[\"Number_of_friends\", \"Children\", \"Life_struggles\", \"Happiness_in_life\", \"Public_speaking\", \n",
    "                           \"Questionnaires_or_polls\", \"Getting_angry\", \"Appearence_and_gestures\", \"Getting_up\",\n",
    "                           \"Unpopularity\"]]"
   ]
  },
  {
   "cell_type": "code",
   "execution_count": 5,
   "metadata": {},
   "outputs": [],
   "source": [
    "#for col in df.columns: \n",
    " #   print(col) "
   ]
  },
  {
   "cell_type": "code",
   "execution_count": 71,
   "metadata": {},
   "outputs": [],
   "source": [
    "#target_names = [\"negative\", \"positive\"]\n",
    "#dummies = pd.get_dummies(df['Gender'])\n",
    "#y = df['Education']\n",
    "y = df['Spiders']\n"
   ]
  },
  {
   "cell_type": "code",
   "execution_count": 72,
   "metadata": {},
   "outputs": [],
   "source": [
    "\n",
    "gender_features = df[['Prioritising_workload','Writing_notes','Reliability','Keeping_promises','Funniness','Criminal_damage','Compassion_to_animals','Empathy'\n",
    "               ,'Giving','Eating_to_survive','Mood_swings','Socializing','Life_struggles','Personality','Interests_or_hobbies','Questionnaires_or_polls']]\n",
    "\n",
    "education_features = df[['Finding_lost_valuables','Personality','Happiness_in_life',\n",
    "                             'God','Appearence_and_gestures','Waiting','Charity','Cheating_in_school','Borrowed_stuff',\n",
    "                             'Elections']]\n",
    "\n"
   ]
  },
  {
   "cell_type": "code",
   "execution_count": 73,
   "metadata": {},
   "outputs": [
    {
     "data": {
      "text/html": [
       "<div>\n",
       "<style scoped>\n",
       "    .dataframe tbody tr th:only-of-type {\n",
       "        vertical-align: middle;\n",
       "    }\n",
       "\n",
       "    .dataframe tbody tr th {\n",
       "        vertical-align: top;\n",
       "    }\n",
       "\n",
       "    .dataframe thead th {\n",
       "        text-align: right;\n",
       "    }\n",
       "</style>\n",
       "<table border=\"1\" class=\"dataframe\">\n",
       "  <thead>\n",
       "    <tr style=\"text-align: right;\">\n",
       "      <th></th>\n",
       "      <th>Number_of_friends</th>\n",
       "      <th>Children</th>\n",
       "      <th>Life_struggles</th>\n",
       "      <th>Happiness_in_life</th>\n",
       "      <th>Public_speaking</th>\n",
       "      <th>Questionnaires_or_polls</th>\n",
       "      <th>Getting_angry</th>\n",
       "      <th>Appearence_and_gestures</th>\n",
       "      <th>Getting_up</th>\n",
       "      <th>Unpopularity</th>\n",
       "    </tr>\n",
       "  </thead>\n",
       "  <tbody>\n",
       "    <tr>\n",
       "      <th>0</th>\n",
       "      <td>2</td>\n",
       "      <td>3</td>\n",
       "      <td>1</td>\n",
       "      <td>3</td>\n",
       "      <td>3</td>\n",
       "      <td>2</td>\n",
       "      <td>1</td>\n",
       "      <td>3</td>\n",
       "      <td>1</td>\n",
       "      <td>3</td>\n",
       "    </tr>\n",
       "    <tr>\n",
       "      <th>1</th>\n",
       "      <td>2</td>\n",
       "      <td>1</td>\n",
       "      <td>1</td>\n",
       "      <td>3</td>\n",
       "      <td>3</td>\n",
       "      <td>2</td>\n",
       "      <td>3</td>\n",
       "      <td>3</td>\n",
       "      <td>3</td>\n",
       "      <td>3</td>\n",
       "    </tr>\n",
       "    <tr>\n",
       "      <th>2</th>\n",
       "      <td>2</td>\n",
       "      <td>3</td>\n",
       "      <td>3</td>\n",
       "      <td>3</td>\n",
       "      <td>1</td>\n",
       "      <td>1</td>\n",
       "      <td>3</td>\n",
       "      <td>2</td>\n",
       "      <td>3</td>\n",
       "      <td>3</td>\n",
       "    </tr>\n",
       "    <tr>\n",
       "      <th>3</th>\n",
       "      <td>2</td>\n",
       "      <td>3</td>\n",
       "      <td>1</td>\n",
       "      <td>2</td>\n",
       "      <td>3</td>\n",
       "      <td>2</td>\n",
       "      <td>1</td>\n",
       "      <td>2</td>\n",
       "      <td>3</td>\n",
       "      <td>3</td>\n",
       "    </tr>\n",
       "    <tr>\n",
       "      <th>4</th>\n",
       "      <td>2</td>\n",
       "      <td>2</td>\n",
       "      <td>2</td>\n",
       "      <td>2</td>\n",
       "      <td>3</td>\n",
       "      <td>3</td>\n",
       "      <td>2</td>\n",
       "      <td>2</td>\n",
       "      <td>2</td>\n",
       "      <td>3</td>\n",
       "    </tr>\n",
       "  </tbody>\n",
       "</table>\n",
       "</div>"
      ],
      "text/plain": [
       "   Number_of_friends  Children  Life_struggles  Happiness_in_life  \\\n",
       "0                  2         3               1                  3   \n",
       "1                  2         1               1                  3   \n",
       "2                  2         3               3                  3   \n",
       "3                  2         3               1                  2   \n",
       "4                  2         2               2                  2   \n",
       "\n",
       "   Public_speaking  Questionnaires_or_polls  Getting_angry  \\\n",
       "0                3                        2              1   \n",
       "1                3                        2              3   \n",
       "2                1                        1              3   \n",
       "3                3                        2              1   \n",
       "4                3                        3              2   \n",
       "\n",
       "   Appearence_and_gestures  Getting_up  Unpopularity  \n",
       "0                        3           1             3  \n",
       "1                        3           3             3  \n",
       "2                        2           3             3  \n",
       "3                        2           3             3  \n",
       "4                        2           2             3  "
      ]
     },
     "execution_count": 73,
     "metadata": {},
     "output_type": "execute_result"
    }
   ],
   "source": [
    "#X = education_features\n",
    "X = adj_spiders_features\n",
    "X.head()"
   ]
  },
  {
   "cell_type": "code",
   "execution_count": 74,
   "metadata": {},
   "outputs": [],
   "source": [
    "from sklearn.model_selection import train_test_split\n",
    "X_train, X_test, y_train, y_test = train_test_split(X, y, random_state=42)"
   ]
  },
  {
   "cell_type": "code",
   "execution_count": 75,
   "metadata": {},
   "outputs": [
    {
     "name": "stdout",
     "output_type": "stream",
     "text": [
      "k: 1, Train/Test Score: 0.986/0.509\n",
      "k: 3, Train/Test Score: 0.713/0.444\n",
      "k: 5, Train/Test Score: 0.614/0.426\n",
      "k: 7, Train/Test Score: 0.580/0.497\n",
      "k: 9, Train/Test Score: 0.598/0.527\n",
      "k: 11, Train/Test Score: 0.560/0.550\n",
      "k: 13, Train/Test Score: 0.550/0.538\n",
      "k: 15, Train/Test Score: 0.586/0.521\n",
      "k: 17, Train/Test Score: 0.549/0.521\n",
      "k: 19, Train/Test Score: 0.566/0.550\n"
     ]
    },
    {
     "data": {
      "image/png": "[encoded data removed]",
      "text/plain": [
       "<Figure size 432x288 with 1 Axes>"
      ]
     },
     "metadata": {
      "needs_background": "light"
     },
     "output_type": "display_data"
    }
   ],
   "source": [
    "# Loop through different k values to see which has the highest accuracy\n",
    "# Note: We only use odd numbers because we don't want any ties\n",
    "train_scores = []\n",
    "test_scores = []\n",
    "for k in range(1, 20, 2):\n",
    "    knn = KNeighborsClassifier(n_neighbors=k)\n",
    "    knn.fit(X_train, y_train)\n",
    "    train_score = knn.score(X_train, y_train)\n",
    "    test_score = knn.score(X_test, y_test)\n",
    "    train_scores.append(train_score)\n",
    "    test_scores.append(test_score)\n",
    "    print(f\"k: {k}, Train/Test Score: {train_score:.3f}/{test_score:.3f}\")\n",
    "    \n",
    "    \n",
    "plt.plot(range(1, 20, 2), train_scores, marker='o')\n",
    "plt.plot(range(1, 20, 2), test_scores, marker=\"x\")\n",
    "plt.xlabel(\"k neighbors\")\n",
    "plt.ylabel(\"Testing accuracy Score\")\n",
    "plt.show()"
   ]
  },
  {
   "cell_type": "code",
   "execution_count": 76,
   "metadata": {},
   "outputs": [
    {
     "name": "stdout",
     "output_type": "stream",
     "text": [
      "k=11 Test Acc: 0.550\n"
     ]
    }
   ],
   "source": [
    "knn = KNeighborsClassifier(n_neighbors=11)\n",
    "knn.fit(X_train, y_train)\n",
    "print('k=11 Test Acc: %.3f' % knn.score(X_test, y_test))"
   ]
  },
  {
   "cell_type": "code",
   "execution_count": 77,
   "metadata": {},
   "outputs": [
    {
     "data": {
      "text/plain": [
       "['models/spiders_KNN_model.sav']"
      ]
     },
     "execution_count": 77,
     "metadata": {},
     "output_type": "execute_result"
    }
   ],
   "source": [
    "# save your model by updating \"your_name\" with your name\n",
    "# and \"your_model\" with your model variable\n",
    "# be sure to turn this in to BCS\n",
    "# if joblib fails to import, try running the command to install in terminal/git-bash\n",
    "import joblib\n",
    "filename = 'models/spiders_KNN_model.sav'\n",
    "joblib.dump(knn, filename)\n",
    "\n"
   ]
  },
  {
   "cell_type": "code",
   "execution_count": null,
   "metadata": {},
   "outputs": [],
   "source": []
  }
 ],
 "metadata": {
  "kernelspec": {
   "display_name": "Python 3.7.3 64-bit ('base': conda)",
   "language": "python",
   "name": "python37364bitbaseconda9f475500b0c944b3a7060e93115389c2"
  },
  "language_info": {
   "codemirror_mode": {
    "name": "ipython",
    "version": 3
   },
   "file_extension": ".py",
   "mimetype": "text/x-python",
   "name": "python",
   "nbconvert_exporter": "python",
   "pygments_lexer": "ipython3",
   "version": "3.7.3"
  }
 },
 "nbformat": 4,
 "nbformat_minor": 2
}
