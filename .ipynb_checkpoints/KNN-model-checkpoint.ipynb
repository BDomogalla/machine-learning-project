{
 "cells": [
  {
   "cell_type": "code",
   "execution_count": 1,
   "metadata": {},
   "outputs": [],
   "source": [
    "import matplotlib.pyplot as plt\n",
    "from sklearn.neighbors import KNeighborsClassifier\n",
    "import pandas as pd\n",
    "import os"
   ]
  },
  {
   "cell_type": "code",
   "execution_count": 2,
   "metadata": {},
   "outputs": [],
   "source": [
    "#df = pd.read_csv(\"Data/responses.csv\")\n",
    "# Drop the null columns where all values are null\n",
    "#df = df.dropna(axis='columns', how='all')\n",
    "# Drop the null rows\n",
    "#df = df.dropna()\n",
    "#df.head()\n"
   ]
  },
  {
   "cell_type": "code",
   "execution_count": 3,
   "metadata": {},
   "outputs": [],
   "source": [
    "df = pd.read_csv(\"Data/personality_traits_adjusted_scale_MOSHER.csv\")\n",
    "\n",
    "#phobia_df.head()"
   ]
  },
  {
   "cell_type": "code",
   "execution_count": 4,
   "metadata": {},
   "outputs": [
    {
     "ename": "NameError",
     "evalue": "name 'phobia_df' is not defined",
     "output_type": "error",
     "traceback": [
      "\u001b[1;31m---------------------------------------------------------------------------\u001b[0m",
      "\u001b[1;31mNameError\u001b[0m                                 Traceback (most recent call last)",
      "\u001b[1;32m<ipython-input-4-a1db5d04f58e>\u001b[0m in \u001b[0;36m<module>\u001b[1;34m\u001b[0m\n\u001b[1;32m----> 1\u001b[1;33m adj_heights_features = phobia_df[[\"Funniness\", \"Loneliness\", \"Energy_levels\", \"Knowing_the_right_people\", \"Eating_to_survive\",\n\u001b[0m\u001b[0;32m      2\u001b[0m                            \"Waiting\", \"Life_struggles\", \"Appearence_and_gestures\", \"Self_criticism\", \"Health\"]]\n\u001b[0;32m      3\u001b[0m \u001b[1;33m\u001b[0m\u001b[0m\n\u001b[0;32m      4\u001b[0m adj_snakes_features = phobia_df[[\"Health\", \"Public_speaking\", \"Thinking_ahead\", \"Getting_angry\", \"God\", \"Number_of_friends\",\n\u001b[0;32m      5\u001b[0m                           \"Children\"]]\n",
      "\u001b[1;31mNameError\u001b[0m: name 'phobia_df' is not defined"
     ]
    }
   ],
   "source": [
    "adj_heights_features = df[[\"Funniness\", \"Loneliness\", \"Energy_levels\", \"Knowing_the_right_people\", \"Eating_to_survive\",\n",
    "                           \"Waiting\", \"Life_struggles\", \"Appearence_and_gestures\", \"Self_criticism\", \"Health\"]]\n",
    "\n",
    "adj_snakes_features = df[[\"Health\", \"Public_speaking\", \"Thinking_ahead\", \"Getting_angry\", \"God\", \"Number_of_friends\",\n",
    "                          \"Children\"]]\n",
    "\n",
    "#adj_public_speaking_features = phobia_df[[\"Health\", \"God\", \"New_environment\", \"Parents_advice\", \"Appearence_and_gestures\",\n",
    " #                                  \"Assertiveness\", \"Socializing\", \"Hypochondria\", \"Changing_the_past\", \"Friends_versus_money\"]]\n",
    "\n",
    "#adj_ageing_features = phobia_df[[\"Health\", \"Appearence_and_gestures\", \"God\", \"Compassion_to_animals\", \"Cheating_in_school\",\n",
    " #                         \"Life_struggles\", \"Knowing_the_right_people\", \"Giving\", \"Waiting\", \"Finding_lost_valuables\",\n",
    "  #                        \"Empathy\", \"Judgment_calls\"]]\n",
    "\n",
    "adj_spiders_features = df[[\"Number_of_friends\", \"Children\", \"Life_struggles\", \"Happiness_in_life\", \"Public_speaking\", \n",
    "                           \"Questionnaires_or_polls\", \"Getting_angry\", \"Appearence_and_gestures\", \"Getting_up\",\n",
    "                           \"Unpopularity\"]]"
   ]
  },
  {
   "cell_type": "code",
   "execution_count": null,
   "metadata": {},
   "outputs": [],
   "source": [
    "#for col in df.columns: \n",
    " #   print(col) "
   ]
  },
  {
   "cell_type": "code",
   "execution_count": null,
   "metadata": {},
   "outputs": [],
   "source": [
    "#target_names = [\"negative\", \"positive\"]\n",
    "#dummies = pd.get_dummies(df['Gender'])\n",
    "#y = df['Education']\n",
    "y = df['Gender']\n"
   ]
  },
  {
   "cell_type": "code",
   "execution_count": null,
   "metadata": {},
   "outputs": [],
   "source": [
    "\n",
    "gender_features = df[['Prioritising_workload','Writing_notes','Reliability','Keeping_promises','Funniness','Criminal_damage','Compassion_to_animals','Empathy'\n",
    "               ,'Giving','Eating_to_survive','Mood_swings','Socializing','Life_struggles','Personality','Interests_or_hobbies','Questionnaires_or_polls']]\n",
    "\n",
    "education_features = df[['Finding_lost_valuables','Personality','Happiness_in_life',\n",
    "                             'God','Appearence_and_gestures','Waiting','Charity','God','Cheating_in_school','Borrowed_stuff',\n",
    "                             'Elections']]\n",
    "\n"
   ]
  },
  {
   "cell_type": "code",
   "execution_count": 5,
   "metadata": {},
   "outputs": [
    {
     "ename": "NameError",
     "evalue": "name 'gender_features' is not defined",
     "output_type": "error",
     "traceback": [
      "\u001b[1;31m---------------------------------------------------------------------------\u001b[0m",
      "\u001b[1;31mNameError\u001b[0m                                 Traceback (most recent call last)",
      "\u001b[1;32m<ipython-input-5-fea2d3d5d40c>\u001b[0m in \u001b[0;36m<module>\u001b[1;34m\u001b[0m\n\u001b[0;32m      1\u001b[0m \u001b[1;31m#X = education_features\u001b[0m\u001b[1;33m\u001b[0m\u001b[1;33m\u001b[0m\u001b[1;33m\u001b[0m\u001b[0m\n\u001b[1;32m----> 2\u001b[1;33m \u001b[0mX\u001b[0m \u001b[1;33m=\u001b[0m \u001b[0mgender_features\u001b[0m\u001b[1;33m\u001b[0m\u001b[1;33m\u001b[0m\u001b[0m\n\u001b[0m\u001b[0;32m      3\u001b[0m \u001b[0mX\u001b[0m\u001b[1;33m.\u001b[0m\u001b[0mhead\u001b[0m\u001b[1;33m(\u001b[0m\u001b[1;33m)\u001b[0m\u001b[1;33m\u001b[0m\u001b[1;33m\u001b[0m\u001b[0m\n",
      "\u001b[1;31mNameError\u001b[0m: name 'gender_features' is not defined"
     ]
    }
   ],
   "source": [
    "#X = education_features\n",
    "X = gender_features\n",
    "X.head()"
   ]
  },
  {
   "cell_type": "code",
   "execution_count": 192,
   "metadata": {},
   "outputs": [],
   "source": [
    "from sklearn.model_selection import train_test_split\n",
    "X_train, X_test, y_train, y_test = train_test_split(X, y, random_state=42)"
   ]
  },
  {
   "cell_type": "code",
   "execution_count": 193,
   "metadata": {},
   "outputs": [
    {
     "name": "stdout",
     "output_type": "stream",
     "text": [
      "k: 1, Train/Test Score: 0.984/0.337\n",
      "k: 3, Train/Test Score: 0.659/0.373\n",
      "k: 5, Train/Test Score: 0.568/0.379\n",
      "k: 7, Train/Test Score: 0.552/0.420\n",
      "k: 9, Train/Test Score: 0.537/0.414\n",
      "k: 11, Train/Test Score: 0.509/0.462\n",
      "k: 13, Train/Test Score: 0.517/0.456\n",
      "k: 15, Train/Test Score: 0.505/0.473\n",
      "k: 17, Train/Test Score: 0.505/0.420\n",
      "k: 19, Train/Test Score: 0.509/0.444\n"
     ]
    },
    {
     "data": {
      "image/png": "[encoded data removed]",
      "text/plain": [
       "<Figure size 432x288 with 1 Axes>"
      ]
     },
     "metadata": {
      "needs_background": "light"
     },
     "output_type": "display_data"
    }
   ],
   "source": [
    "# Loop through different k values to see which has the highest accuracy\n",
    "# Note: We only use odd numbers because we don't want any ties\n",
    "train_scores = []\n",
    "test_scores = []\n",
    "for k in range(1, 20, 2):\n",
    "    knn = KNeighborsClassifier(n_neighbors=k)\n",
    "    knn.fit(X_train, y_train)\n",
    "    train_score = knn.score(X_train, y_train)\n",
    "    test_score = knn.score(X_test, y_test)\n",
    "    train_scores.append(train_score)\n",
    "    test_scores.append(test_score)\n",
    "    print(f\"k: {k}, Train/Test Score: {train_score:.3f}/{test_score:.3f}\")\n",
    "    \n",
    "    \n",
    "plt.plot(range(1, 20, 2), train_scores, marker='o')\n",
    "plt.plot(range(1, 20, 2), test_scores, marker=\"x\")\n",
    "plt.xlabel(\"k neighbors\")\n",
    "plt.ylabel(\"Testing accuracy Score\")\n",
    "plt.show()"
   ]
  },
  {
   "cell_type": "code",
   "execution_count": 194,
   "metadata": {},
   "outputs": [
    {
     "name": "stdout",
     "output_type": "stream",
     "text": [
      "k=13 Test Acc: 0.456\n"
     ]
    }
   ],
   "source": [
    "knn = KNeighborsClassifier(n_neighbors=13)\n",
    "knn.fit(X_train, y_train)\n",
    "print('k=13 Test Acc: %.3f' % knn.score(X_test, y_test))"
   ]
  },
  {
   "cell_type": "code",
   "execution_count": 195,
   "metadata": {},
   "outputs": [],
   "source": [
    "#new data must be the length of the initial selected features\n",
    "#new_data = [[1, 5 ,2, 5 ,4 ,5]]\n",
    "#predicted_class = knn.predict(new_data)\n",
    "#print(predicted_class)"
   ]
  },
  {
   "cell_type": "code",
   "execution_count": 165,
   "metadata": {},
   "outputs": [
    {
     "data": {
      "text/plain": [
       "['KNN_model.sav']"
      ]
     },
     "execution_count": 165,
     "metadata": {},
     "output_type": "execute_result"
    }
   ],
   "source": [
    "# save your model by updating \"your_name\" with your name\n",
    "# and \"your_model\" with your model variable\n",
    "# be sure to turn this in to BCS\n",
    "# if joblib fails to import, try running the command to install in terminal/git-bash\n",
    "import joblib\n",
    "filename = 'KNN_model.sav'\n",
    "joblib.dump(knn, filename)"
   ]
  },
  {
   "cell_type": "code",
   "execution_count": null,
   "metadata": {},
   "outputs": [],
   "source": []
  }
 ],
 "metadata": {
  "kernelspec": {
   "display_name": "Python 3.7.3 64-bit ('base': conda)",
   "language": "python",
   "name": "python37364bitbaseconda9f475500b0c944b3a7060e93115389c2"
  },
  "language_info": {
   "codemirror_mode": {
    "name": "ipython",
    "version": 3
   },
   "file_extension": ".py",
   "mimetype": "text/x-python",
   "name": "python",
   "nbconvert_exporter": "python",
   "pygments_lexer": "ipython3",
   "version": "3.7.3"
  }
 },
 "nbformat": 4,
 "nbformat_minor": 2
}
