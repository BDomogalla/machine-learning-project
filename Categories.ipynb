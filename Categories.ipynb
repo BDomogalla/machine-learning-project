{
 "cells": [
  {
   "cell_type": "markdown",
   "metadata": {},
   "source": [
    "### May have issues including some of these lists that have non integer values in them"
   ]
  },
  {
   "cell_type": "code",
   "execution_count": null,
   "metadata": {},
   "outputs": [],
   "source": [
    "music_features = df[['Music', 'Slow songs or fast songs', 'Dance', 'Folk','Country','Classical music','Musical','Pop','Rock','Metal or Hardrock','Punk','Hiphop, Rap','Reggae, Ska','Swing, Jazz','Rock n roll','Alternative','Latino','Techno, Trance','Opera']]\n",
    "\n",
    "movie_features = df[['Movies','Horror','Thriller','Comedy','Romantic','Sci-fi','War','Fantasy/Fairy tales','Animated','Documentary','Western','Action']]\n",
    "\n",
    "\n",
    "hobbies_features = df[['History','Psychology','Politics','Mathematics','Physics','Internet','PC','Economy Management','Biology','Chemistry','Reading','Geography','Foreign languages','Medicine','Law','Cars','Art exhibitions','Religion','Countryside, outdoors','Dancing','Musical instruments','Writing','Passive sport','Active sport','Gardening','Celebrities','Shopping','Science and technology','Theatre','Fun with friends','Adrenaline sports','Pets']]\n",
    "\n",
    "phobia_features = df[['Flying','Storm','Darkness','Heights','Spiders','Snakes','Rats','Ageing','Dangerous dogs','Fear of public speaking']]\n",
    "\n",
    "\n",
    "health_features = df[['Smoking','Alcohol', 'Healthy eating']]\n",
    "\n",
    "personality_opinion_features = df[['Daily events','Prioritising workload','Writing notes','Workaholism','Thinking ahead','Final judgement','Reliability',\n",
    "'Keeping promises','Loss of interest','Friends versus money','Funniness','Fake','Criminal damage','Decision making','Elections','Self-criticism','Judgment calls','Hypochondria','Empathy'\n",
    ",'Eating to survive','Giving','Compassion to animals','Borrowed stuff','Loneliness','Cheating in school','Health','Changing the past','God'\n",
    ",'Dreams','Charity','Number of friends','Punctuality','Lying','Waiting','New environment','Mood swings','Appearence and gestures','Socializing'\n",
    ",'Achievements','Responding to a serious letter','Children','Assertiveness','Getting angry','Knowing the right people','Public speaking','Unpopularity'\n",
    ",'Life struggles','Happiness in life','Energy levels','Small - big dogs','Personality','Finding lost valuables','Getting up','Interests or hobbies',\"Parents' advice\"\n",
    ",'Questionnaires or polls','Internet usage']]\n",
    "\n",
    "spending_features = df[['Finances','Shopping centres','Branded clothing','Entertainment spending','Spending on looks','Spending on gadgets','Spending on healthy eating']]\n",
    "\n",
    "demographic_features = df[['Age','Height','Weight','Number of siblings','Gender','Left - right handed','Education','Only child','Village - town','House - block of flats']]"
   ]
  }
 ],
 "metadata": {
  "kernelspec": {
   "display_name": "Python 3",
   "language": "python",
   "name": "python3"
  },
  "language_info": {
   "codemirror_mode": {
    "name": "ipython",
    "version": 3
   },
   "file_extension": ".py",
   "mimetype": "text/x-python",
   "name": "python",
   "nbconvert_exporter": "python",
   "pygments_lexer": "ipython3",
   "version": "3.6.9"
  }
 },
 "nbformat": 4,
 "nbformat_minor": 2
}
