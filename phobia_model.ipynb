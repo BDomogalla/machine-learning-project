{
 "cells": [
  {
   "cell_type": "code",
   "execution_count": 1,
   "metadata": {},
   "outputs": [],
   "source": [
    "# Set the Seed Value for the Notebook so the Results are Reproducible\n",
    "from numpy.random import seed\n",
    "seed(1)"
   ]
  },
  {
   "cell_type": "code",
   "execution_count": null,
   "metadata": {},
   "outputs": [],
   "source": [
    "# Import Modules & Dependencies\n",
    "%matplotlib inline\n",
    "import matplotlib.pyplot as plt\n",
    "import numpy as np\n",
    "import sklearn\n",
    "import tensorflow\n",
    "import pandas as pd"
   ]
  },
  {
   "cell_type": "code",
   "execution_count": null,
   "metadata": {},
   "outputs": [],
   "source": [
    "# Import Modules & Dependencies\n",
    "from sklearn.model_selection import train_test_split\n",
    "from sklearn.preprocessing import LabelEncoder, MinMaxScaler, StandardScaler\n",
    "from tensorflow.keras.utils import to_categorical\n",
    "from tensorflow.keras.models import Sequential\n",
    "from tensorflow.keras.layers import Dense"
   ]
  },
  {
   "cell_type": "code",
   "execution_count": null,
   "metadata": {},
   "outputs": [],
   "source": [
    "# Read in CSV File\n",
    "df = pd.read_csv(\"Data/personality_traits_adjusted_scale_MOSHER.csv\")\n",
    "\n",
    "df.head()"
   ]
  },
  {
   "cell_type": "code",
   "execution_count": null,
   "metadata": {},
   "outputs": [],
   "source": [
    "# Original 1-5 Likert Scale Features\n",
    "# heights_features = df[[\"Funniness\", \"Giving\", \"Compassion_to_animals\", \"Loneliness\", \"God\", \"Dreams\", \"Children\",\n",
    "#                        \"Getting_angry\", \"Energy_levels\", \"Getting_up\", \"Questionnaires_or_polls\"]]\n",
    "\n",
    "# snakes_features = df[[\"Reliability\", \"Funniness\", \"Criminal_damage\", \"Hypochondria\", \"Giving\", \"Compassion_to_animals\",\n",
    "#                       \"Dreams\", \"Waiting\", \"Socializing\", \"Achievements\", \"Happiness_in_life\", \"Energy_levels\",\n",
    "#                       \"Finding_lost_valuables\"]]\n",
    "\n",
    "# public_speaking_features = df[[\"Writing_notes\", \"Health\", \"God\", \"New_environment\", \"Life_struggles\", \"Finding_lost_valuables\",\n",
    "#                                \"Parents_advice\"]]\n",
    "\n",
    "# ageing_features = df[[\"Writing_notes\", \"Criminal_damage\", \"Elections\", \"Charity\", \"Socializing\", \"Public_speaking\",\n",
    "#                       \"Energy_levels\"]]\n",
    "\n",
    "# spiders_features = df[[\"Friends_versus_money\", \"Decision_making\", \"Empathy\", \"Eating_to_survive\", \"Giving\",\n",
    "#                        \"Compassion_to_animals\", \"Loneliness\", \"Dreams\", \"New_environment\", \"Children\",\n",
    "#                        \"Knowing_the_right_people\", \"Life_struggles\", \"Happiness_in_life\", \"Energy_levels\", \"Small_big_dogs\",\n",
    "#                        \"Personality\"]]"
   ]
  },
  {
   "cell_type": "code",
   "execution_count": null,
   "metadata": {},
   "outputs": [],
   "source": [
    "# Adjusted 1-3 Likert Scale Features\n",
    "adj_heights_features = df[[\"Funniness\", \"Loneliness\", \"Energy_levels\", \"Knowing_the_right_people\", \"Eating_to_survive\",\n",
    "                           \"Waiting\", \"Life_struggles\", \"Appearence_and_gestures\", \"Self_criticism\", \"Health\"]]\n",
    "\n",
    "adj_snakes_features = df[[\"Health\", \"Public_speaking\", \"Thinking_ahead\", \"Getting_angry\", \"God\", \"Number_of_friends\",\n",
    "                          \"Children\"]]\n",
    "\n",
    "adj_public_speaking_features = df[[\"Health\", \"God\", \"New_environment\", \"Parents_advice\", \"Appearence_and_gestures\",\n",
    "                                   \"Assertiveness\", \"Socializing\", \"Hypochondria\", \"Changing_the_past\", \"Friends_versus_money\"]]\n",
    "\n",
    "adj_ageing_features = df[[\"Health\", \"Appearence_and_gestures\", \"God\", \"Compassion_to_animals\", \"Cheating_in_school\",\n",
    "                          \"Life_struggles\", \"Knowing_the_right_people\", \"Giving\", \"Waiting\", \"Finding_lost_valuables\",\n",
    "                          \"Empathy\", \"Judgment_calls\"]]\n",
    "\n",
    "adj_spiders_features = df[[\"Number_of_friends\", \"Children\", \"Life_struggles\", \"Happiness_in_life\", \"Public_speaking\", \n",
    "                           \"Questionnaires_or_polls\", \"Getting_angry\", \"Appearence_and_gestures\", \"Getting_up\",\n",
    "                           \"Unpopularity\"]]"
   ]
  },
  {
   "cell_type": "code",
   "execution_count": null,
   "metadata": {},
   "outputs": [],
   "source": [
    "# Define the Features (X) and Target (y) to be Used in the Model\n",
    "X = adj_snakes_features\n",
    "y = df[\"Snakes\"]\n",
    "print(X.shape, y.shape)"
   ]
  },
  {
   "cell_type": "code",
   "execution_count": null,
   "metadata": {},
   "outputs": [],
   "source": [
    "# Use Train_Test_Split to Create Training and Testing Data\n",
    "X_train, X_test, y_train, y_test = train_test_split(\n",
    "    X, y, random_state=1, stratify=y)"
   ]
  },
  {
   "cell_type": "code",
   "execution_count": null,
   "metadata": {},
   "outputs": [],
   "source": [
    "# Create a MinMaxScaler Model and Fit it to the Training Data\n",
    "X_scaler = MinMaxScaler().fit(X_train)\n",
    "\n",
    "# Transform the Training and Testing Data Using the X_Scaler\n",
    "X_train_scaled = X_scaler.transform(X_train)\n",
    "X_test_scaled = X_scaler.transform(X_test)"
   ]
  },
  {
   "cell_type": "code",
   "execution_count": null,
   "metadata": {},
   "outputs": [],
   "source": [
    "# Label-Encode Data\n",
    "label_encoder = LabelEncoder()\n",
    "label_encoder.fit(y_train)\n",
    "encoded_y_train = label_encoder.transform(y_train)\n",
    "encoded_y_test = label_encoder.transform(y_test)"
   ]
  },
  {
   "cell_type": "code",
   "execution_count": null,
   "metadata": {},
   "outputs": [],
   "source": [
    "# Convert Encoded Labels to One-Hot-Encoding\n",
    "y_train_categorical = to_categorical(encoded_y_train)\n",
    "y_test_categorical = to_categorical(encoded_y_test)"
   ]
  },
  {
   "cell_type": "code",
   "execution_count": null,
   "metadata": {},
   "outputs": [],
   "source": [
    "# Create a Normal Neural Network Model and Add Layers\n",
    "model = Sequential()\n",
    "model.add(Dense(units=100, activation='relu', input_dim= (X.shape[1])))\n",
    "model.add(Dense(units=3, activation='softmax'))"
   ]
  },
  {
   "cell_type": "code",
   "execution_count": null,
   "metadata": {},
   "outputs": [],
   "source": [
    "# Compile and Fit the Model\n",
    "model.compile(optimizer='adam',\n",
    "              loss='categorical_crossentropy',\n",
    "              metrics=['accuracy'])"
   ]
  },
  {
   "cell_type": "code",
   "execution_count": null,
   "metadata": {},
   "outputs": [],
   "source": [
    "model.summary()"
   ]
  },
  {
   "cell_type": "code",
   "execution_count": null,
   "metadata": {},
   "outputs": [],
   "source": [
    "model.fit(\n",
    "    X_train_scaled,\n",
    "    y_train_categorical,\n",
    "    epochs=100,\n",
    "    shuffle=True,\n",
    "    verbose=2\n",
    ")"
   ]
  },
  {
   "cell_type": "code",
   "execution_count": null,
   "metadata": {},
   "outputs": [],
   "source": [
    "model_loss, model_accuracy = model.evaluate(X_test_scaled, y_test_categorical, verbose=2)\n",
    "\n",
    "print(f\"Neural Network - Loss: {model_loss}, Accuracy: {model_accuracy}\")"
   ]
  },
  {
   "cell_type": "code",
   "execution_count": null,
   "metadata": {},
   "outputs": [],
   "source": [
    "encoded_predictions = model.predict_classes(X_test_scaled[:10])\n",
    "prediction_labels = label_encoder.inverse_transform(encoded_predictions)"
   ]
  },
  {
   "cell_type": "code",
   "execution_count": null,
   "metadata": {},
   "outputs": [],
   "source": [
    "predictions = model.predict_classes(X_test_scaled)\n",
    "prediction_labels = label_encoder.inverse_transform(predictions)\n",
    "pd.DataFrame({\"Prediction\": prediction_labels, \"Actual\": y_test}).head(50)"
   ]
  },
  {
   "cell_type": "code",
   "execution_count": null,
   "metadata": {},
   "outputs": [],
   "source": [
    "# model.save(\"heights_model_trained.h5\")\n",
    "# model.save(\"snakes_model_trained.h5\")\n",
    "# model.save(\"public_speaking_model_trained.h5\")\n",
    "# model.save(\"ageing_model_trained.h5\")\n",
    "model.save(\"models/spiders_model_trained.h5\")"
   ]
  },
  {
   "cell_type": "code",
   "execution_count": null,
   "metadata": {},
   "outputs": [],
   "source": []
  }
 ],
 "metadata": {
  "kernelspec": {
   "display_name": "Python [conda env:PythonData] *",
   "language": "python",
   "name": "conda-env-PythonData-py"
  },
  "language_info": {
   "codemirror_mode": {
    "name": "ipython",
    "version": 3
   },
   "file_extension": ".py",
   "mimetype": "text/x-python",
   "name": "python",
   "nbconvert_exporter": "python",
   "pygments_lexer": "ipython3",
   "version": "3.6.9"
  }
 },
 "nbformat": 4,
 "nbformat_minor": 2
}
