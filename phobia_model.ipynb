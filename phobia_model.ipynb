{
 "cells": [
  {
   "cell_type": "code",
   "execution_count": null,
   "metadata": {},
   "outputs": [],
   "source": [
    "# Set the Seed Value for the Notebook so the Results are Reproducible\n",
    "from numpy.random import seed\n",
    "seed(1)"
   ]
  },
  {
   "cell_type": "code",
   "execution_count": null,
   "metadata": {},
   "outputs": [],
   "source": [
    "# Import Modules & Dependencies\n",
    "%matplotlib inline\n",
    "import matplotlib.pyplot as plt\n",
    "import numpy as np\n",
    "import sklearn\n",
    "import tensorflow\n",
    "import pandas as pd"
   ]
  },
  {
   "cell_type": "code",
   "execution_count": null,
   "metadata": {},
   "outputs": [],
   "source": [
    "# Import Modules & Dependencies\n",
    "from sklearn.model_selection import train_test_split\n",
    "from sklearn.preprocessing import LabelEncoder, MinMaxScaler, StandardScaler\n",
    "from tensorflow.keras.utils import to_categorical\n",
    "from tensorflow.keras.models import Sequential\n",
    "from tensorflow.keras.layers import Dense"
   ]
  },
  {
   "cell_type": "code",
   "execution_count": null,
   "metadata": {},
   "outputs": [],
   "source": [
    "# Read in CSV File of Survey Results with an Adjusted 1-3 Likert Scale\n",
    "df = pd.read_csv(\"Data/personality_traits_adjusted_scale_MOSHER.csv\")\n",
    "\n",
    "#Drop the Null Columns Where All Values Are Null\n",
    "df = df.dropna(axis='columns', how='all')\n",
    "\n",
    "#Drop the Null Rows\n",
    "df = df.dropna()\n",
    "df.head()"
   ]
  },
  {
   "cell_type": "code",
   "execution_count": null,
   "metadata": {},
   "outputs": [],
   "source": [
    "# Adjusted 1-3 Likert Scale Features\n",
    "adj_heights_features = df[[\"Funniness\", \"Loneliness\", \"Energy_levels\", \"Knowing_the_right_people\", \"Eating_to_survive\",\n",
    "                           \"Waiting\", \"Life_struggles\", \"Appearence_and_gestures\", \"Self_criticism\", \"Health\"]]\n",
    "\n",
    "adj_snakes_features = df[[\"Health\", \"Public_speaking\", \"Thinking_ahead\", \"Getting_angry\", \"God\", \"Number_of_friends\",\n",
    "                          \"Children\"]]\n",
    "\n",
    "adj_spiders_features = df[[\"Number_of_friends\", \"Children\", \"Life_struggles\", \"Happiness_in_life\", \"Public_speaking\", \n",
    "                           \"Questionnaires_or_polls\", \"Getting_angry\", \"Appearence_and_gestures\", \"Getting_up\",\n",
    "                           \"Unpopularity\"]]"
   ]
  },
  {
   "cell_type": "code",
   "execution_count": null,
   "metadata": {},
   "outputs": [],
   "source": [
    "# Define the Features (X) and Target (y) to be Used in the Model\n",
    "X = adj_heights_features\n",
    "y = df[\"Heights\"]\n",
    "\n",
    "# X = adj_snakes_features\n",
    "# y = df[\"Snakes\"]\n",
    "\n",
    "# X = adj_spiders_features\n",
    "# y = df[\"Spiders\"]\n",
    "\n",
    "print(X.shape, y.shape)"
   ]
  },
  {
   "cell_type": "code",
   "execution_count": null,
   "metadata": {},
   "outputs": [],
   "source": [
    "# Use Train_Test_Split to Create Training and Testing Data\n",
    "X_train, X_test, y_train, y_test = train_test_split(\n",
    "    X, y, random_state=1, stratify=y)"
   ]
  },
  {
   "cell_type": "code",
   "execution_count": null,
   "metadata": {},
   "outputs": [],
   "source": [
    "# Create a MinMaxScaler Model and Fit it to the Training Data\n",
    "X_scaler = MinMaxScaler().fit(X_train)\n",
    "\n",
    "# Transform the Training and Testing Data Using the X_Scaler\n",
    "X_train_scaled = X_scaler.transform(X_train)\n",
    "X_test_scaled = X_scaler.transform(X_test)"
   ]
  },
  {
   "cell_type": "code",
   "execution_count": null,
   "metadata": {},
   "outputs": [],
   "source": [
    "# Label-Encode Dependent/Target Variables For Training and Testing Data\n",
    "label_encoder = LabelEncoder()\n",
    "label_encoder.fit(y_train)\n",
    "encoded_y_train = label_encoder.transform(y_train)\n",
    "encoded_y_test = label_encoder.transform(y_test)"
   ]
  },
  {
   "cell_type": "code",
   "execution_count": null,
   "metadata": {},
   "outputs": [],
   "source": [
    "# Convert Encoded Labels Using One-Hot-Encoding\n",
    "y_train_categorical = to_categorical(encoded_y_train)\n",
    "y_test_categorical = to_categorical(encoded_y_test)"
   ]
  },
  {
   "cell_type": "code",
   "execution_count": null,
   "metadata": {},
   "outputs": [],
   "source": [
    "# Create a Normal Neural Network Model and Add Input and Output Layers\n",
    "model = Sequential()\n",
    "model.add(Dense(units=70, activation='relu', input_dim= (X.shape[1])))\n",
    "model.add(Dense(units=3, activation='softmax'))"
   ]
  },
  {
   "cell_type": "code",
   "execution_count": null,
   "metadata": {},
   "outputs": [],
   "source": [
    "# Compile and Fit the Model\n",
    "model.compile(optimizer='adam',\n",
    "              loss='categorical_crossentropy',\n",
    "              metrics=['accuracy'])"
   ]
  },
  {
   "cell_type": "code",
   "execution_count": null,
   "metadata": {},
   "outputs": [],
   "source": [
    "# Review Model Layers\n",
    "model.summary()"
   ]
  },
  {
   "cell_type": "code",
   "execution_count": null,
   "metadata": {},
   "outputs": [],
   "source": [
    "# Fit Model and Set Final Parameters Before Running on Training Data\n",
    "model.fit(\n",
    "    X_train_scaled,\n",
    "    y_train_categorical,\n",
    "    epochs=100,\n",
    "    shuffle=True,\n",
    "    verbose=2\n",
    ")"
   ]
  },
  {
   "cell_type": "code",
   "execution_count": null,
   "metadata": {},
   "outputs": [],
   "source": [
    "# Evaluate Model Accuracy and Loss For Test Data\n",
    "model_loss, model_accuracy = model.evaluate(X_test_scaled, y_test_categorical, verbose=2)\n",
    "\n",
    "print(f\"Neural Network - Loss: {model_loss}, Accuracy: {model_accuracy}\")"
   ]
  },
  {
   "cell_type": "code",
   "execution_count": null,
   "metadata": {},
   "outputs": [],
   "source": [
    "# Compare Predicted Values to Actual Values For Each Survey Respondant\n",
    "predictions = model.predict_classes(X_test_scaled)\n",
    "prediction_labels = label_encoder.inverse_transform(predictions)\n",
    "pd.DataFrame({\"Prediction\": prediction_labels, \"Actual\": y_test}).head(50)"
   ]
  },
  {
   "cell_type": "code",
   "execution_count": null,
   "metadata": {},
   "outputs": [],
   "source": [
    "# Save Each Model Once the Optimal Set of Parameters is Established For Each Model\n",
    "# model.save(\"models/heights_model_trained.h5\")\n",
    "# model.save(\"models/snakes_model_trained.h5\")\n",
    "# model.save(\"public_speaking_model_trained.h5\")\n",
    "# model.save(\"ageing_model_trained.h5\")\n",
    "# model.save(\"models/spiders_model_trained.h5\")"
   ]
  }
 ],
 "metadata": {
  "kernelspec": {
   "display_name": "Python [conda env:PythonData] *",
   "language": "python",
   "name": "conda-env-PythonData-py"
  },
  "language_info": {
   "codemirror_mode": {
    "name": "ipython",
    "version": 3
   },
   "file_extension": ".py",
   "mimetype": "text/x-python",
   "name": "python",
   "nbconvert_exporter": "python",
   "pygments_lexer": "ipython3",
   "version": "3.6.9"
  }
 },
 "nbformat": 4,
 "nbformat_minor": 2
}
